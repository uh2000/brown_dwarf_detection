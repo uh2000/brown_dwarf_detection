{
 "cells": [
  {
   "cell_type": "markdown",
   "metadata": {},
   "source": [
    "# Changes\n",
    "\n",
    "This notebook makes the NN take in an activation function as input, to compare different activation functions"
   ]
  },
  {
   "cell_type": "code",
   "execution_count": 243,
   "metadata": {},
   "outputs": [],
   "source": [
    "import pandas as pd\n",
    "import os\n",
    "import numpy as np"
   ]
  },
  {
   "cell_type": "markdown",
   "metadata": {},
   "source": [
    "Using the actual dataset from the matlab file given instead."
   ]
  },
  {
   "cell_type": "code",
   "execution_count": 246,
   "metadata": {},
   "outputs": [],
   "source": [
    "data_path = \"original_dataset/\"\n",
    "data = pd.read_csv(data_path + \"matlab_file_sorted.csv\")\n",
    "idTE = np.load(data_path + \"idTE.npy\")\n",
    "idTR = np.load(data_path + \"idTR.npy\")\n",
    "labelTE = np.load(data_path + \"labelTE.npy\")\n",
    "labelTR = np.load(data_path + \"labelTR.npy\")"
   ]
  },
  {
   "cell_type": "code",
   "execution_count": 232,
   "metadata": {},
   "outputs": [
    {
     "name": "stdout",
     "output_type": "stream",
     "text": [
      "<class 'pandas.core.frame.DataFrame'>\n",
      "RangeIndex: 5669 entries, 0 to 5668\n",
      "Data columns (total 27 columns):\n",
      " #   Column  Non-Null Count  Dtype  \n",
      "---  ------  --------------  -----  \n",
      " 0   0       5669 non-null   float64\n",
      " 1   1       5669 non-null   float64\n",
      " 2   2       5669 non-null   float64\n",
      " 3   3       5669 non-null   float64\n",
      " 4   4       5669 non-null   float64\n",
      " 5   5       5669 non-null   float64\n",
      " 6   6       5669 non-null   float64\n",
      " 7   7       5669 non-null   float64\n",
      " 8   8       5669 non-null   float64\n",
      " 9   9       5669 non-null   float64\n",
      " 10  10      5669 non-null   float64\n",
      " 11  11      5669 non-null   float64\n",
      " 12  12      5669 non-null   float64\n",
      " 13  13      5669 non-null   float64\n",
      " 14  14      5669 non-null   float64\n",
      " 15  15      5669 non-null   float64\n",
      " 16  16      5669 non-null   float64\n",
      " 17  17      5669 non-null   float64\n",
      " 18  18      5669 non-null   float64\n",
      " 19  19      5669 non-null   float64\n",
      " 20  20      5669 non-null   float64\n",
      " 21  21      5669 non-null   float64\n",
      " 22  22      5669 non-null   float64\n",
      " 23  23      5669 non-null   float64\n",
      " 24  24      5669 non-null   float64\n",
      " 25  25      5669 non-null   float64\n",
      " 26  label   5669 non-null   float64\n",
      "dtypes: float64(27)\n",
      "memory usage: 1.2 MB\n"
     ]
    }
   ],
   "source": [
    "data.info()"
   ]
  },
  {
   "cell_type": "code",
   "execution_count": 250,
   "metadata": {},
   "outputs": [
    {
     "data": {
      "text/plain": [
       "array([[   1,    2,    3, ..., 5667, 5668, 5669],\n",
       "       [   1,    2,    4, ..., 5664, 5666, 5667],\n",
       "       [   1,    3,    4, ..., 5666, 5668, 5669],\n",
       "       [   2,    3,    4, ..., 5665, 5667, 5668],\n",
       "       [   1,    2,    3, ..., 5667, 5668, 5669]])"
      ]
     },
     "execution_count": 250,
     "metadata": {},
     "output_type": "execute_result"
    }
   ],
   "source": [
    "idTR"
   ]
  },
  {
   "cell_type": "code",
   "execution_count": 251,
   "metadata": {},
   "outputs": [
    {
     "ename": "KeyError",
     "evalue": "'column'",
     "output_type": "error",
     "traceback": [
      "\u001b[1;31m---------------------------------------------------------------------------\u001b[0m",
      "\u001b[1;31mKeyError\u001b[0m                                  Traceback (most recent call last)",
      "File \u001b[1;32mc:\\Users\\iver_y\\OneDrive - NTNU\\Documents\\Iver\\Utveksling Padova\\skole\\2. semester\\Deep Learning\\Brown_Dwarfs\\italy_dl_padova\\.venv\\lib\\site-packages\\pandas\\core\\indexes\\base.py:3805\u001b[0m, in \u001b[0;36mIndex.get_loc\u001b[1;34m(self, key)\u001b[0m\n\u001b[0;32m   3804\u001b[0m \u001b[38;5;28;01mtry\u001b[39;00m:\n\u001b[1;32m-> 3805\u001b[0m     \u001b[38;5;28;01mreturn\u001b[39;00m \u001b[38;5;28;43mself\u001b[39;49m\u001b[38;5;241;43m.\u001b[39;49m\u001b[43m_engine\u001b[49m\u001b[38;5;241;43m.\u001b[39;49m\u001b[43mget_loc\u001b[49m\u001b[43m(\u001b[49m\u001b[43mcasted_key\u001b[49m\u001b[43m)\u001b[49m\n\u001b[0;32m   3806\u001b[0m \u001b[38;5;28;01mexcept\u001b[39;00m \u001b[38;5;167;01mKeyError\u001b[39;00m \u001b[38;5;28;01mas\u001b[39;00m err:\n",
      "File \u001b[1;32mindex.pyx:167\u001b[0m, in \u001b[0;36mpandas._libs.index.IndexEngine.get_loc\u001b[1;34m()\u001b[0m\n",
      "File \u001b[1;32mindex.pyx:196\u001b[0m, in \u001b[0;36mpandas._libs.index.IndexEngine.get_loc\u001b[1;34m()\u001b[0m\n",
      "File \u001b[1;32mpandas\\\\_libs\\\\hashtable_class_helper.pxi:7081\u001b[0m, in \u001b[0;36mpandas._libs.hashtable.PyObjectHashTable.get_item\u001b[1;34m()\u001b[0m\n",
      "File \u001b[1;32mpandas\\\\_libs\\\\hashtable_class_helper.pxi:7089\u001b[0m, in \u001b[0;36mpandas._libs.hashtable.PyObjectHashTable.get_item\u001b[1;34m()\u001b[0m\n",
      "\u001b[1;31mKeyError\u001b[0m: 'column'",
      "\nThe above exception was the direct cause of the following exception:\n",
      "\u001b[1;31mKeyError\u001b[0m                                  Traceback (most recent call last)",
      "Cell \u001b[1;32mIn[251], line 1\u001b[0m\n\u001b[1;32m----> 1\u001b[0m df_TR \u001b[38;5;241m=\u001b[39m data[\u001b[43mdata\u001b[49m\u001b[43m[\u001b[49m\u001b[38;5;124;43m\"\u001b[39;49m\u001b[38;5;124;43mcolumn\u001b[39;49m\u001b[38;5;124;43m\"\u001b[39;49m\u001b[43m]\u001b[49m\u001b[38;5;241m.\u001b[39misin(idTR[\u001b[38;5;241m0\u001b[39m])]\n",
      "File \u001b[1;32mc:\\Users\\iver_y\\OneDrive - NTNU\\Documents\\Iver\\Utveksling Padova\\skole\\2. semester\\Deep Learning\\Brown_Dwarfs\\italy_dl_padova\\.venv\\lib\\site-packages\\pandas\\core\\frame.py:4102\u001b[0m, in \u001b[0;36mDataFrame.__getitem__\u001b[1;34m(self, key)\u001b[0m\n\u001b[0;32m   4100\u001b[0m \u001b[38;5;28;01mif\u001b[39;00m \u001b[38;5;28mself\u001b[39m\u001b[38;5;241m.\u001b[39mcolumns\u001b[38;5;241m.\u001b[39mnlevels \u001b[38;5;241m>\u001b[39m \u001b[38;5;241m1\u001b[39m:\n\u001b[0;32m   4101\u001b[0m     \u001b[38;5;28;01mreturn\u001b[39;00m \u001b[38;5;28mself\u001b[39m\u001b[38;5;241m.\u001b[39m_getitem_multilevel(key)\n\u001b[1;32m-> 4102\u001b[0m indexer \u001b[38;5;241m=\u001b[39m \u001b[38;5;28;43mself\u001b[39;49m\u001b[38;5;241;43m.\u001b[39;49m\u001b[43mcolumns\u001b[49m\u001b[38;5;241;43m.\u001b[39;49m\u001b[43mget_loc\u001b[49m\u001b[43m(\u001b[49m\u001b[43mkey\u001b[49m\u001b[43m)\u001b[49m\n\u001b[0;32m   4103\u001b[0m \u001b[38;5;28;01mif\u001b[39;00m is_integer(indexer):\n\u001b[0;32m   4104\u001b[0m     indexer \u001b[38;5;241m=\u001b[39m [indexer]\n",
      "File \u001b[1;32mc:\\Users\\iver_y\\OneDrive - NTNU\\Documents\\Iver\\Utveksling Padova\\skole\\2. semester\\Deep Learning\\Brown_Dwarfs\\italy_dl_padova\\.venv\\lib\\site-packages\\pandas\\core\\indexes\\base.py:3812\u001b[0m, in \u001b[0;36mIndex.get_loc\u001b[1;34m(self, key)\u001b[0m\n\u001b[0;32m   3807\u001b[0m     \u001b[38;5;28;01mif\u001b[39;00m \u001b[38;5;28misinstance\u001b[39m(casted_key, \u001b[38;5;28mslice\u001b[39m) \u001b[38;5;129;01mor\u001b[39;00m (\n\u001b[0;32m   3808\u001b[0m         \u001b[38;5;28misinstance\u001b[39m(casted_key, abc\u001b[38;5;241m.\u001b[39mIterable)\n\u001b[0;32m   3809\u001b[0m         \u001b[38;5;129;01mand\u001b[39;00m \u001b[38;5;28many\u001b[39m(\u001b[38;5;28misinstance\u001b[39m(x, \u001b[38;5;28mslice\u001b[39m) \u001b[38;5;28;01mfor\u001b[39;00m x \u001b[38;5;129;01min\u001b[39;00m casted_key)\n\u001b[0;32m   3810\u001b[0m     ):\n\u001b[0;32m   3811\u001b[0m         \u001b[38;5;28;01mraise\u001b[39;00m InvalidIndexError(key)\n\u001b[1;32m-> 3812\u001b[0m     \u001b[38;5;28;01mraise\u001b[39;00m \u001b[38;5;167;01mKeyError\u001b[39;00m(key) \u001b[38;5;28;01mfrom\u001b[39;00m \u001b[38;5;21;01merr\u001b[39;00m\n\u001b[0;32m   3813\u001b[0m \u001b[38;5;28;01mexcept\u001b[39;00m \u001b[38;5;167;01mTypeError\u001b[39;00m:\n\u001b[0;32m   3814\u001b[0m     \u001b[38;5;66;03m# If we have a listlike key, _check_indexing_error will raise\u001b[39;00m\n\u001b[0;32m   3815\u001b[0m     \u001b[38;5;66;03m#  InvalidIndexError. Otherwise we fall through and re-raise\u001b[39;00m\n\u001b[0;32m   3816\u001b[0m     \u001b[38;5;66;03m#  the TypeError.\u001b[39;00m\n\u001b[0;32m   3817\u001b[0m     \u001b[38;5;28mself\u001b[39m\u001b[38;5;241m.\u001b[39m_check_indexing_error(key)\n",
      "\u001b[1;31mKeyError\u001b[0m: 'column'"
     ]
    }
   ],
   "source": [
    "df_TR = data[data[\"column\"].isin(idTR[0])]"
   ]
  },
  {
   "cell_type": "code",
   "execution_count": 213,
   "metadata": {},
   "outputs": [],
   "source": [
    "data_path = \"original_dataset/matlab_file_sorted.csv\"\n",
    "df = pd.read_csv(data_path)\n",
    "y = df[\"label\"]\n",
    "X = df.drop(columns=[\"label\"])"
   ]
  },
  {
   "cell_type": "code",
   "execution_count": 214,
   "metadata": {},
   "outputs": [
    {
     "data": {
      "text/plain": [
       "(           0          1       2    3        4      5        6       7  \\\n",
       " 0  326.80817   2.686124   5.556  0.0   5.7600  0.000   5.9470  0.0000   \n",
       " 1  321.20044  25.880459   0.000  0.0   7.6116  0.001   0.0000  0.0000   \n",
       " 2  144.03845 -12.459262  10.512  0.0  10.6920  0.000  10.8660  0.0000   \n",
       " 3  209.66217  21.696203   0.000  0.0   0.0000  0.000   6.8603  0.1042   \n",
       " 4   65.16255 -20.639620   0.000  0.0   0.0000  0.000   6.3206  0.0000   \n",
       " \n",
       "          8       9  ...     16     17     18     19      20      21      22  \\\n",
       " 0   6.0720  0.0000  ...  0.162  0.050  0.015  0.044   5.562   5.539   5.479   \n",
       " 1   7.5167  0.0010  ...  0.059  0.020  0.016  0.059   6.896   6.921   6.932   \n",
       " 2  10.9890  0.0000  ...  0.022  0.020  0.074  0.000  10.408  10.400  10.378   \n",
       " 3   0.0000  0.0000  ...  0.149  0.046  0.015  0.037   5.671   5.717   5.704   \n",
       " 4   5.9504  0.0031  ...  0.169  0.072  0.015  0.036   5.430   5.402   5.333   \n",
       " \n",
       "       23     24     25  \n",
       " 0  0.017  0.026  0.020  \n",
       " 1  0.026  0.024  0.016  \n",
       " 2  0.026  0.021  0.023  \n",
       " 3  0.023  0.063  0.020  \n",
       " 4  0.054  0.036  0.017  \n",
       " \n",
       " [5 rows x 26 columns],\n",
       " 0    1.0\n",
       " 1    1.0\n",
       " 2    1.0\n",
       " 3    1.0\n",
       " 4    1.0\n",
       " Name: label, dtype: float64)"
      ]
     },
     "execution_count": 214,
     "metadata": {},
     "output_type": "execute_result"
    }
   ],
   "source": [
    "X.head(), y.head(), "
   ]
  },
  {
   "cell_type": "markdown",
   "metadata": {},
   "source": [
    "Generating fictive data"
   ]
  },
  {
   "cell_type": "code",
   "execution_count": 215,
   "metadata": {},
   "outputs": [],
   "source": [
    "from imblearn.combine import SMOTEENN\n",
    "\n",
    "# testing \n",
    "\n",
    "smote_enn = SMOTEENN(random_state=42)\n",
    "X_resampled, y_resampled = smote_enn.fit_resample(X, y)"
   ]
  },
  {
   "cell_type": "code",
   "execution_count": 216,
   "metadata": {},
   "outputs": [],
   "source": [
    "from sklearn.model_selection import train_test_split\n",
    "X_train,  X_test, y_train,y_test = train_test_split(X_resampled, y_resampled, test_size=0.2, random_state=42)"
   ]
  },
  {
   "cell_type": "markdown",
   "metadata": {},
   "source": [
    "Scale the data with respect to the training data X_train"
   ]
  },
  {
   "cell_type": "code",
   "execution_count": 217,
   "metadata": {},
   "outputs": [],
   "source": [
    "from sklearn.preprocessing import StandardScaler\n",
    "\n",
    "scaler = StandardScaler()\n",
    "X_train = scaler.fit_transform(X_train)\n",
    "X_test = scaler.transform(X_test)"
   ]
  },
  {
   "cell_type": "code",
   "execution_count": 218,
   "metadata": {},
   "outputs": [],
   "source": [
    "from sklearn.decomposition import PCA\n",
    "\n",
    "pca = PCA(n_components=5)\n",
    "\n",
    "pca.fit(X_train)\n",
    "X_train = pca.transform(X_train)\n",
    "X_test = pca.transform(X_test)"
   ]
  },
  {
   "cell_type": "code",
   "execution_count": 219,
   "metadata": {},
   "outputs": [],
   "source": [
    "import numpy as np\n",
    "y_train, y_test = np.array(y_train), np.array(y_test)"
   ]
  },
  {
   "cell_type": "code",
   "execution_count": 220,
   "metadata": {},
   "outputs": [
    {
     "data": {
      "text/plain": [
       "((4694, 5), (1174, 5), (4694,), (1174,))"
      ]
     },
     "execution_count": 220,
     "metadata": {},
     "output_type": "execute_result"
    }
   ],
   "source": [
    "X_train.shape, X_test.shape, y_train.shape, y_test.shape   "
   ]
  },
  {
   "cell_type": "markdown",
   "metadata": {},
   "source": [
    "Neural Net for binary classification 5x64x32x1"
   ]
  },
  {
   "cell_type": "markdown",
   "metadata": {},
   "source": [
    "# NN"
   ]
  },
  {
   "cell_type": "code",
   "execution_count": 221,
   "metadata": {},
   "outputs": [],
   "source": [
    "import torch\n",
    "import torch.nn as nn\n",
    "import torch.optim as optim\n",
    "from torch.utils.data import TensorDataset, DataLoader\n",
    "\n",
    "\n",
    "\n",
    "# Convert numpy arrays or pandas DataFrames to PyTorch tensors if needed\n",
    "X_train = torch.tensor(X_train, dtype=torch.float32)\n",
    "y_train = torch.tensor(y_train, dtype=torch.long)\n",
    "\n",
    "# Defining a simple neural network class for binary classification\n",
    "class NeuralNet(nn.Module):\n",
    "    def __init__(self, input_size, activation):\n",
    "        super(NeuralNet, self).__init__()\n",
    "        self.fc1 = nn.Linear(input_size, 32)\n",
    "        self.activation = activation       # Arbitrary activation function\n",
    "        self.fc2 = nn.Linear(32, 64)\n",
    "        self.fc3 = nn.Linear(64, 32)  \n",
    "        self.fc4 = nn.Linear(32, 1)# Output layer with single neuron (binary classification)\n",
    "\n",
    "    def forward(self, x):\n",
    "        x = self.activation(self.fc1(x))\n",
    "        x = self.activation(self.fc2(x))\n",
    "        x = self.activation(self.fc3(x))\n",
    "        x = torch.sigmoid(self.fc4(x))  # Apply sigmoid activation for binary classification of final output\n",
    "        return x\n"
   ]
  },
  {
   "cell_type": "markdown",
   "metadata": {},
   "source": [
    "The training loop"
   ]
  },
  {
   "cell_type": "code",
   "execution_count": 222,
   "metadata": {},
   "outputs": [
    {
     "name": "stdout",
     "output_type": "stream",
     "text": [
      "Training with activation function: ReLU()\n",
      "Epoch 1, Loss: 0.49115858941662066\n",
      "Epoch 2, Loss: 0.3648402427329498\n",
      "Epoch 3, Loss: 0.28392245544462785\n",
      "Epoch 4, Loss: 0.253472239691384\n",
      "Epoch 5, Loss: 0.23719346209042738\n",
      "Epoch 6, Loss: 0.22752700885441027\n",
      "Epoch 7, Loss: 0.22030411934366032\n",
      "Epoch 8, Loss: 0.21417507503916616\n",
      "Epoch 9, Loss: 0.20736011994533798\n",
      "Epoch 10, Loss: 0.20363221791427152\n",
      "Epoch 11, Loss: 0.19810170355905482\n",
      "Epoch 12, Loss: 0.19570074141735122\n",
      "Epoch 13, Loss: 0.19298002501430156\n",
      "Epoch 14, Loss: 0.1847533876342433\n",
      "Epoch 15, Loss: 0.18463567396004996\n",
      "Training with activation function: Sigmoid()\n",
      "Epoch 1, Loss: 0.653148007027957\n",
      "Epoch 2, Loss: 0.49560580772607504\n",
      "Epoch 3, Loss: 0.4751279510202862\n",
      "Epoch 4, Loss: 0.4726545226817228\n",
      "Epoch 5, Loss: 0.47151503777828346\n",
      "Epoch 6, Loss: 0.4708569319475265\n",
      "Epoch 7, Loss: 0.46997092349999614\n",
      "Epoch 8, Loss: 0.4693617100010113\n",
      "Epoch 9, Loss: 0.4695407188668543\n",
      "Epoch 10, Loss: 0.46831653515497845\n",
      "Epoch 11, Loss: 0.46790830456480687\n",
      "Epoch 12, Loss: 0.4664817699769727\n",
      "Epoch 13, Loss: 0.46558122103717053\n",
      "Epoch 14, Loss: 0.46498350738262645\n",
      "Epoch 15, Loss: 0.46194005985649267\n",
      "Training with activation function: Tanh()\n"
     ]
    },
    {
     "name": "stderr",
     "output_type": "stream",
     "text": [
      "C:\\Users\\iver_y\\AppData\\Local\\Temp\\ipykernel_33700\\1464925698.py:48: UserWarning: To copy construct from a tensor, it is recommended to use sourceTensor.clone().detach() or sourceTensor.clone().detach().requires_grad_(True), rather than torch.tensor(sourceTensor).\n",
      "  X_test = torch.tensor(X_test, dtype=torch.float32)\n"
     ]
    },
    {
     "name": "stdout",
     "output_type": "stream",
     "text": [
      "Epoch 1, Loss: 0.4807752800636551\n",
      "Epoch 2, Loss: 0.3806733244738611\n",
      "Epoch 3, Loss: 0.3173097780569881\n",
      "Epoch 4, Loss: 0.29116139576143146\n",
      "Epoch 5, Loss: 0.2798680966200472\n",
      "Epoch 6, Loss: 0.27000191285699404\n",
      "Epoch 7, Loss: 0.26318008001564314\n",
      "Epoch 8, Loss: 0.2578351904644447\n",
      "Epoch 9, Loss: 0.2550348063208619\n",
      "Epoch 10, Loss: 0.2443509864665213\n",
      "Epoch 11, Loss: 0.24148092332745896\n",
      "Epoch 12, Loss: 0.23664906119205514\n",
      "Epoch 13, Loss: 0.22834937956158807\n",
      "Epoch 14, Loss: 0.22345496678636187\n",
      "Epoch 15, Loss: 0.22016779219313543\n",
      "Training with activation function: Hardtanh(min_val=-1.0, max_val=1.0)\n",
      "Epoch 1, Loss: 0.47695847524672136\n",
      "Epoch 2, Loss: 0.40161658914721743\n",
      "Epoch 3, Loss: 0.34078738924597396\n",
      "Epoch 4, Loss: 0.3090830274990627\n",
      "Epoch 5, Loss: 0.2776752110748064\n",
      "Epoch 6, Loss: 0.2521267692450763\n",
      "Epoch 7, Loss: 0.24274873829820529\n",
      "Epoch 8, Loss: 0.23170042656311374\n",
      "Epoch 9, Loss: 0.2275513106969749\n",
      "Epoch 10, Loss: 0.22056559714026192\n",
      "Epoch 11, Loss: 0.2198952994480425\n",
      "Epoch 12, Loss: 0.21442932853487884\n",
      "Epoch 13, Loss: 0.211342163903474\n",
      "Epoch 14, Loss: 0.21675368862188593\n",
      "Epoch 15, Loss: 0.20860649303210024\n"
     ]
    }
   ],
   "source": [
    "import os\n",
    "\n",
    "activation_functions = [nn.ReLU(), nn.Sigmoid(), nn.Tanh(), nn.Hardtanh()]\n",
    "act_colors = {\"ReLU\": \"red\", \"Sigmoid\": \"blue\", \"Tanh\": \"green\", \"Hardtanh\": \"orange\"}\n",
    "losses = [] #Might turn into dict to make it more readable\n",
    "for activation in activation_functions:\n",
    "    print(f\"Training with activation function: {activation}\")\n",
    "    # Initialize the neural network\n",
    "    input_size = X_train.shape[1]\n",
    "    model = NeuralNet(input_size, activation)\n",
    "\n",
    "    # Define loss function and optimizer\n",
    "    criterion = nn.BCELoss()  # Binary Cross-Entropy Loss\n",
    "    optimizer = optim.Adam(model.parameters())\n",
    "\n",
    "    # Prepare data for training using DataLoader\n",
    "    batch_size = 32\n",
    "    train_dataset = TensorDataset(X_train, y_train)\n",
    "    train_loader = DataLoader(train_dataset, batch_size=batch_size, shuffle=True)\n",
    "\n",
    "    # Training loop\n",
    "    num_epochs = 15\n",
    "    temp_loss = []\n",
    "    for epoch in range(num_epochs):\n",
    "        running_loss = 0.0\n",
    "        for inputs, labels in train_loader:\n",
    "            # Zero the parameter gradients\n",
    "            optimizer.zero_grad()\n",
    "\n",
    "            # Forward pass\n",
    "            outputs = model(inputs)\n",
    "            outputs = outputs.squeeze(dim=1)  # Remove extra dimension for binary classification\n",
    "            loss = criterion(outputs, labels.float())  # Calculate loss\n",
    "\n",
    "            # Backward pass and optimize\n",
    "            loss.backward()\n",
    "            optimizer.step()\n",
    "\n",
    "            running_loss += loss.item()\n",
    "\n",
    "        # Print average loss per epoch\n",
    "        print(f\"Epoch {epoch+1}, Loss: {running_loss / len(train_loader)}\")\n",
    "        temp_loss.append(running_loss / len(train_loader))\n",
    "    losses.append(temp_loss)\n",
    "\n",
    "    # Example: Make predictions\n",
    "    # Assuming X_test is your test data\n",
    "    X_test = torch.tensor(X_test, dtype=torch.float32)\n",
    "    model.eval()  # Switch to evaluation mode\n",
    "    with torch.no_grad():\n",
    "        predictions = model(X_test)\n",
    "        predictions = (predictions > 0.5).int()  # Convert probabilities to binary predictions (0 or 1)\n",
    "\n",
    "    # Define the directory path\n",
    "    dir_path = './models/activation_test/'\n",
    "    \n",
    "    # Check if the directory exists\n",
    "    if not os.path.exists(dir_path):\n",
    "        # If not, create the directory\n",
    "        os.makedirs(dir_path)\n",
    "\n",
    "    #Saving model for later use\n",
    "    model_dir = './models/activation_test'\n",
    "    os.makedirs(model_dir, exist_ok=True)  # Create directory if it doesn't exist\n",
    "    model_path = os.path.join(model_dir, f'{type(activation).__name__}_binary_classification_model.pth')\n",
    "    torch.save(model.state_dict(), model_path)"
   ]
  },
  {
   "cell_type": "code",
   "execution_count": 223,
   "metadata": {},
   "outputs": [
    {
     "data": {
      "image/png": "[encoded data removed]",
      "text/plain": [
       "<Figure size 640x480 with 1 Axes>"
      ]
     },
     "metadata": {},
     "output_type": "display_data"
    }
   ],
   "source": [
    "import matplotlib.pyplot as plt\n",
    "for i, loss in enumerate(losses):\n",
    "    c = act_colors[type(activation_functions[i]).__name__]\n",
    "    plt.plot(loss, \"-o\", label=str(activation_functions[i]), color = c)\n",
    "plt.legend()\n",
    "plt.xlabel(\"Epoch\")\n",
    "plt.ylabel(\"Loss\")\n",
    "plt.title(\"Training Loss vs. Epoch for Different Activation Functions\")\n",
    "plt.show()"
   ]
  },
  {
   "cell_type": "markdown",
   "metadata": {},
   "source": [
    "Testing on the training set"
   ]
  },
  {
   "cell_type": "code",
   "execution_count": 224,
   "metadata": {},
   "outputs": [
    {
     "name": "stdout",
     "output_type": "stream",
     "text": [
      "Evaluating model with activation function: ReLU()\n",
      "Training: MCC-score: 0.8603078688085946, check against the test set for overfitting\n",
      "Evaluating model with activation function: Sigmoid()\n"
     ]
    },
    {
     "name": "stderr",
     "output_type": "stream",
     "text": [
      "C:\\Users\\iver_y\\AppData\\Local\\Temp\\ipykernel_33700\\1797312987.py:15: UserWarning: To copy construct from a tensor, it is recommended to use sourceTensor.clone().detach() or sourceTensor.clone().detach().requires_grad_(True), rather than torch.tensor(sourceTensor).\n",
      "  y_train = torch.tensor(y_train, dtype=torch.float32)\n",
      "C:\\Users\\iver_y\\AppData\\Local\\Temp\\ipykernel_33700\\1797312987.py:15: UserWarning: To copy construct from a tensor, it is recommended to use sourceTensor.clone().detach() or sourceTensor.clone().detach().requires_grad_(True), rather than torch.tensor(sourceTensor).\n",
      "  y_train = torch.tensor(y_train, dtype=torch.float32)\n"
     ]
    },
    {
     "name": "stdout",
     "output_type": "stream",
     "text": [
      "Training: MCC-score: 0.6170288566282816, check against the test set for overfitting\n",
      "Evaluating model with activation function: Tanh()\n",
      "Training: MCC-score: 0.8215322987226793, check against the test set for overfitting\n",
      "Evaluating model with activation function: Hardtanh(min_val=-1.0, max_val=1.0)\n",
      "Training: MCC-score: 0.8452560833995586, check against the test set for overfitting\n"
     ]
    },
    {
     "name": "stderr",
     "output_type": "stream",
     "text": [
      "C:\\Users\\iver_y\\AppData\\Local\\Temp\\ipykernel_33700\\1797312987.py:15: UserWarning: To copy construct from a tensor, it is recommended to use sourceTensor.clone().detach() or sourceTensor.clone().detach().requires_grad_(True), rather than torch.tensor(sourceTensor).\n",
      "  y_train = torch.tensor(y_train, dtype=torch.float32)\n",
      "C:\\Users\\iver_y\\AppData\\Local\\Temp\\ipykernel_33700\\1797312987.py:15: UserWarning: To copy construct from a tensor, it is recommended to use sourceTensor.clone().detach() or sourceTensor.clone().detach().requires_grad_(True), rather than torch.tensor(sourceTensor).\n",
      "  y_train = torch.tensor(y_train, dtype=torch.float32)\n"
     ]
    }
   ],
   "source": [
    "from sklearn.metrics import f1_score\n",
    "from sklearn.metrics import matthews_corrcoef, accuracy_score, precision_score, recall_score, confusion_matrix\n",
    "\n",
    "for activation in activation_functions:\n",
    "    print(f\"Evaluating model with activation function: {activation}\")\n",
    "    # Load the trained model\n",
    "    input_size = input_size  # Assuming the input size based on X_train\n",
    "    model = NeuralNet(input_size, activation)\n",
    "    # model.load_state_dict(torch.load('./models/binary_classification_model.pth'))  # Load the trained model state  (Windows)\n",
    "    model.load_state_dict(torch.load('models/activation_test/'+type(activation).__name__+'_binary_classification_model.pth'))  # Load the trained model state (MACos)\n",
    "\n",
    "\n",
    "    # Assuming X_test and y_test are your test data\n",
    "    X_train = X_train.float()\n",
    "    y_train = torch.tensor(y_train, dtype=torch.float32)\n",
    "\n",
    "    # Prepare test dataset and dataloader\n",
    "    batch_size = 64\n",
    "    train_dataset = TensorDataset(X_train, y_train)\n",
    "    train_loader = DataLoader(train_dataset, batch_size=batch_size, shuffle=False)  # No need to shuffle for testing\n",
    "\n",
    "    # Evaluate the model on the test set using F1 score\n",
    "    model.eval()  # Switch to evaluation mode\n",
    "    y_true = []\n",
    "    y_pred = []\n",
    "    #print(test_loader)\n",
    "    with torch.no_grad():\n",
    "        for inputs, labels in train_loader:\n",
    "            outputs = model(inputs)\n",
    "            predicted = (outputs > 0.5).float()  # Convert probabilities to binary predictions (0 or 1)\n",
    "            y_true.extend(labels.cpu().numpy())\n",
    "            y_pred.extend(predicted.cpu().numpy())\n",
    "\n",
    "    # Calculate Matthews Correlation Coefficient (MCC)\n",
    "    mcc_tr = matthews_corrcoef(y_true, y_pred)\n",
    "\n",
    "    \n",
    "\n",
    "    print(f\"Training: MCC-score: {mcc_tr}, check against the test set for overfitting\")\n"
   ]
  },
  {
   "cell_type": "markdown",
   "metadata": {},
   "source": [
    "Testing the model on the test set"
   ]
  },
  {
   "cell_type": "code",
   "execution_count": 225,
   "metadata": {},
   "outputs": [
    {
     "name": "stdout",
     "output_type": "stream",
     "text": [
      "Evaluating model with activation function: ReLU()\n",
      "Testing: 0.8583479050962436\n",
      "Evaluating model with activation function: Sigmoid()\n",
      "Testing: 0.6253414611851834\n",
      "Evaluating model with activation function: Tanh()\n",
      "Testing: 0.8249393168787699\n",
      "Evaluating model with activation function: Hardtanh(min_val=-1.0, max_val=1.0)\n",
      "Testing: 0.8698436498988317\n"
     ]
    },
    {
     "name": "stderr",
     "output_type": "stream",
     "text": [
      "C:\\Users\\iver_y\\AppData\\Local\\Temp\\ipykernel_33700\\2081078569.py:18: UserWarning: To copy construct from a tensor, it is recommended to use sourceTensor.clone().detach() or sourceTensor.clone().detach().requires_grad_(True), rather than torch.tensor(sourceTensor).\n",
      "  y_test = torch.tensor(y_test, dtype=torch.float32)\n",
      "C:\\Users\\iver_y\\AppData\\Local\\Temp\\ipykernel_33700\\2081078569.py:18: UserWarning: To copy construct from a tensor, it is recommended to use sourceTensor.clone().detach() or sourceTensor.clone().detach().requires_grad_(True), rather than torch.tensor(sourceTensor).\n",
      "  y_test = torch.tensor(y_test, dtype=torch.float32)\n",
      "C:\\Users\\iver_y\\AppData\\Local\\Temp\\ipykernel_33700\\2081078569.py:18: UserWarning: To copy construct from a tensor, it is recommended to use sourceTensor.clone().detach() or sourceTensor.clone().detach().requires_grad_(True), rather than torch.tensor(sourceTensor).\n",
      "  y_test = torch.tensor(y_test, dtype=torch.float32)\n"
     ]
    }
   ],
   "source": [
    "from sklearn.metrics import f1_score\n",
    "from sklearn.metrics import matthews_corrcoef, accuracy_score, precision_score, recall_score, confusion_matrix\n",
    "\n",
    "\n",
    "all_metrics = {}\n",
    "all_confusion_matrices = {}\n",
    "for activation in activation_functions:\n",
    "    print(f\"Evaluating model with activation function: {activation}\")\n",
    "    # Load the trained model\n",
    "    input_size = input_size  # Assuming the input size based on X_train\n",
    "    model = NeuralNet(input_size, activation)\n",
    "    # model.load_state_dict(torch.load('./models/binary_classification_model.pth'))  # Load the trained model state  (Windows)\n",
    "    model.load_state_dict(torch.load('models/activation_test/'+type(activation).__name__+'_binary_classification_model.pth'))  # Load the trained model state (MACos)\n",
    "\n",
    "\n",
    "    # Assuming X_test and y_test are your test data\n",
    "    X_test = X_test.float()\n",
    "    y_test = torch.tensor(y_test, dtype=torch.float32)\n",
    "\n",
    "    # Prepare test dataset and dataloader\n",
    "    batch_size = 64\n",
    "    test_dataset = TensorDataset(X_test, y_test)\n",
    "    test_loader = DataLoader(test_dataset, batch_size=batch_size, shuffle=False)  # No need to shuffle for testing\n",
    "\n",
    "    # Evaluate the model on the test set using F1 score\n",
    "    model.eval()  # Switch to evaluation mode\n",
    "    y_true = []\n",
    "    y_pred = []\n",
    "    #print(test_loader)\n",
    "    with torch.no_grad():\n",
    "        for inputs, labels in test_loader:\n",
    "            outputs = model(inputs)\n",
    "            predicted = (outputs > 0.5).float()  # Convert probabilities to binary predictions (0 or 1)\n",
    "            y_true.extend(labels.cpu().numpy())\n",
    "            y_pred.extend(predicted.cpu().numpy())\n",
    "\n",
    "    # Calculate F1 score\n",
    "    f1 = f1_score(y_true, y_pred)\n",
    "    #print(f\"F1 Score: {f1}\")\n",
    "\n",
    "    # Calculate Matthews Correlation Coefficient (MCC)\n",
    "    mcc = matthews_corrcoef(y_true, y_pred)\n",
    "    #print(\"Matthews Correlation Coefficient (MCC):\", mcc)\n",
    "\n",
    "    # Compute accuracy, precision and recall\n",
    "    accuracy = accuracy_score(y_true, y_pred)\n",
    "    precision = precision_score(y_true, y_pred, average='binary')  # Change average as needed\n",
    "    recall = recall_score(y_true, y_pred, average='binary')  # Change average as needed\n",
    "\n",
    "    #print(\"Accuracy:\", accuracy)\n",
    "    #print(\"Precision:\", precision)\n",
    "    #print(\"Recall:\", recall)\n",
    "\n",
    "    # Confusion matrix\n",
    "    conf_matrix = confusion_matrix(y_true, y_pred)\n",
    "    #print(\"Confusion Matrix:\", conf_matrix)\n",
    "\n",
    "    # Store the metrics in a dictionary for easy plotting\n",
    "    metrics = {'F1 Score': f1, 'MCC': mcc, 'Accuracy': accuracy, 'Precision': precision, 'Recall': recall}\n",
    "    \n",
    "    all_metrics[type(activation).__name__] = metrics\n",
    "    all_confusion_matrices[type(activation).__name__] = conf_matrix\n",
    "    print(f\"Testing: {metrics['MCC']}\")\n",
    "\n",
    "    # Define the directory path\n",
    "    dir_path = './models/activation_test/'\n",
    "    \n",
    "    # Check if the directory exists\n",
    "    if not os.path.exists(dir_path):\n",
    "        # If not, create the directory\n",
    "        os.makedirs(dir_path)\n",
    "\n",
    "    # Save the model\n",
    "    model_path = os.path.join(dir_path, type(activation).__name__+'_binary_classification_model.pth')\n",
    "    torch.save(model.state_dict(), model_path)"
   ]
  },
  {
   "cell_type": "code",
   "execution_count": 226,
   "metadata": {},
   "outputs": [
    {
     "data": {
      "text/plain": [
       "(0.6, 1.0)"
      ]
     },
     "execution_count": 226,
     "metadata": {},
     "output_type": "execute_result"
    },
    {
     "data": {
      "image/png": "[encoded data removed]",
      "text/plain": [
       "<Figure size 640x480 with 1 Axes>"
      ]
     },
     "metadata": {},
     "output_type": "display_data"
    }
   ],
   "source": [
    "# Convert the all_metrics dictionary to a DataFrame\n",
    "data = pd.DataFrame(all_metrics)\n",
    "# Reset the index to make 'Metrics' a column\n",
    "data = data.reset_index().rename(columns={'index': 'Metrics'})\n",
    "\n",
    "\n",
    "data = pd.melt(data, id_vars='Metrics', var_name='Activation Function', value_name='Value')\n",
    "\n",
    "data = data.set_index(['Metrics', 'Activation Function']).Value\n",
    "# colors = [act_colors[act_name] for act_name in all_metrics.keys()]\n",
    "colors = [\"orange\", \"red\", \"blue\", \"green\"]\n",
    "data.unstack().plot(kind='bar', stacked=False, color = colors)\n",
    "plt.ylim(0.6,1)"
   ]
  },
  {
   "cell_type": "markdown",
   "metadata": {},
   "source": [
    "## Confusion matrix comparison"
   ]
  },
  {
   "cell_type": "code",
   "execution_count": 227,
   "metadata": {},
   "outputs": [
    {
     "data": {
      "image/png": "[encoded data removed]",
      "text/plain": [
       "<Figure size 2000x500 with 8 Axes>"
      ]
     },
     "metadata": {},
     "output_type": "display_data"
    }
   ],
   "source": [
    "import seaborn as sns\n",
    "\n",
    "fig, axes = plt.subplots(1, len(activation_functions), figsize=(20, 5))\n",
    "\n",
    "for i, activation in enumerate(activation_functions):\n",
    "    # Assume you have a function `get_conf_matrix` that returns the confusion matrix for a given activation function\n",
    "    conf_matrix = all_confusion_matrices[type(activation).__name__]\n",
    "\n",
    "    # Create a heatmap for the confusion matrix on the i-th subplot\n",
    "    sns.heatmap(conf_matrix, annot=True, fmt='d', cmap='Blues', ax=axes[i])\n",
    "\n",
    "    # Set the title, x-label, and y-label for the i-th subplot\n",
    "    axes[i].set_title(f'Confusion Matrix ({activation})')\n",
    "    axes[i].set_xlabel('Predicted')\n",
    "    axes[i].set_ylabel('True')\n",
    "\n",
    "plt.tight_layout()\n",
    "plt.show()"
   ]
  },
  {
   "cell_type": "markdown",
   "metadata": {},
   "source": [
    "Kanskje velge Hardtan over Relu, siden FN ikke er så viktig, det var fra før av vanskelig å oppdage brune dverger, mens TP og FP er viktigere, unødvendig å mappe masse vanlige soler til brune dverger\n"
   ]
  }
 ],
 "metadata": {
  "kernelspec": {
   "display_name": "italia_project_dl",
   "language": "python",
   "name": "python3"
  },
  "language_info": {
   "codemirror_mode": {
    "name": "ipython",
    "version": 3
   },
   "file_extension": ".py",
   "mimetype": "text/x-python",
   "name": "python",
   "nbconvert_exporter": "python",
   "pygments_lexer": "ipython3",
   "version": "3.9.2"
  }
 },
 "nbformat": 4,
 "nbformat_minor": 2
}
