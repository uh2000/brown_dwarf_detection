{
 "cells": [
  {
   "cell_type": "markdown",
   "metadata": {},
   "source": [
    "# Changes\n",
    "\n",
    "This notebook makes the NN take in an activation function as input, to compare different activation functions"
   ]
  },
  {
   "cell_type": "code",
   "execution_count": 81,
   "metadata": {},
   "outputs": [],
   "source": [
    "import pandas as pd"
   ]
  },
  {
   "cell_type": "markdown",
   "metadata": {},
   "source": [
    "Read the data and find the different vectors"
   ]
  },
  {
   "cell_type": "code",
   "execution_count": 82,
   "metadata": {},
   "outputs": [
    {
     "data": {
      "text/plain": [
       "ID           HD 203977\n",
       "sp_type             A0\n",
       "RAdeg        321.20044\n",
       "DEdeg        25.880459\n",
       "PS1gmag            NaN\n",
       "e_PS1gmag          NaN\n",
       "PS1rmag         7.6116\n",
       "e_PS1rmag        0.001\n",
       "PS1imag            NaN\n",
       "e_PS1imag          NaN\n",
       "PS1zmag         7.5167\n",
       "e_PS1zmag        0.001\n",
       "PS1ymag        13.5874\n",
       "e_PS1ymag       0.0028\n",
       "W1mag             6.88\n",
       "W2mag            6.919\n",
       "W3mag            6.946\n",
       "W4mag            6.484\n",
       "e_W1mag          0.059\n",
       "e_W2mag           0.02\n",
       "e_W3mag          0.016\n",
       "e_W4mag          0.059\n",
       "Jmag             6.896\n",
       "Hmag             6.921\n",
       "Kmag             6.932\n",
       "e_Jmag           0.026\n",
       "e_Hmag           0.024\n",
       "e_Kmag           0.016\n",
       "label                0\n",
       "Name: 1, dtype: object"
      ]
     },
     "execution_count": 82,
     "metadata": {},
     "output_type": "execute_result"
    }
   ],
   "source": [
    "# data_path = \".\\original_dataset\\dataset_bd_wnames.csv\" #Windows\n",
    "data_path = \"original_dataset/dataset_bd_wnames.csv\"  #MACos\n",
    "df = pd.read_csv(data_path)\n",
    "df.head()\n",
    "df.iloc[1,:]"
   ]
  },
  {
   "cell_type": "markdown",
   "metadata": {},
   "source": [
    "Fill missing values with the mean of the vector"
   ]
  },
  {
   "cell_type": "code",
   "execution_count": 83,
   "metadata": {},
   "outputs": [
    {
     "data": {
      "text/html": [
       "<div>\n",
       "<style scoped>\n",
       "    .dataframe tbody tr th:only-of-type {\n",
       "        vertical-align: middle;\n",
       "    }\n",
       "\n",
       "    .dataframe tbody tr th {\n",
       "        vertical-align: top;\n",
       "    }\n",
       "\n",
       "    .dataframe thead th {\n",
       "        text-align: right;\n",
       "    }\n",
       "</style>\n",
       "<table border=\"1\" class=\"dataframe\">\n",
       "  <thead>\n",
       "    <tr style=\"text-align: right;\">\n",
       "      <th></th>\n",
       "      <th>ID</th>\n",
       "      <th>sp_type</th>\n",
       "      <th>RAdeg</th>\n",
       "      <th>DEdeg</th>\n",
       "      <th>PS1gmag</th>\n",
       "      <th>e_PS1gmag</th>\n",
       "      <th>PS1rmag</th>\n",
       "      <th>e_PS1rmag</th>\n",
       "      <th>PS1imag</th>\n",
       "      <th>e_PS1imag</th>\n",
       "      <th>...</th>\n",
       "      <th>e_W2mag</th>\n",
       "      <th>e_W3mag</th>\n",
       "      <th>e_W4mag</th>\n",
       "      <th>Jmag</th>\n",
       "      <th>Hmag</th>\n",
       "      <th>Kmag</th>\n",
       "      <th>e_Jmag</th>\n",
       "      <th>e_Hmag</th>\n",
       "      <th>e_Kmag</th>\n",
       "      <th>label</th>\n",
       "    </tr>\n",
       "  </thead>\n",
       "  <tbody>\n",
       "    <tr>\n",
       "      <th>0</th>\n",
       "      <td>*  11 Peg</td>\n",
       "      <td>A0V</td>\n",
       "      <td>326.80817</td>\n",
       "      <td>2.686124</td>\n",
       "      <td>5.55600</td>\n",
       "      <td>0.02303</td>\n",
       "      <td>5.760000</td>\n",
       "      <td>0.027126</td>\n",
       "      <td>5.947000</td>\n",
       "      <td>0.022877</td>\n",
       "      <td>...</td>\n",
       "      <td>0.050</td>\n",
       "      <td>0.015</td>\n",
       "      <td>0.044000</td>\n",
       "      <td>5.562</td>\n",
       "      <td>5.539</td>\n",
       "      <td>5.479</td>\n",
       "      <td>0.017</td>\n",
       "      <td>0.026</td>\n",
       "      <td>0.020</td>\n",
       "      <td>0</td>\n",
       "    </tr>\n",
       "    <tr>\n",
       "      <th>1</th>\n",
       "      <td>HD 203977</td>\n",
       "      <td>A0</td>\n",
       "      <td>321.20044</td>\n",
       "      <td>25.880459</td>\n",
       "      <td>15.12594</td>\n",
       "      <td>0.02303</td>\n",
       "      <td>7.611600</td>\n",
       "      <td>0.001000</td>\n",
       "      <td>14.918063</td>\n",
       "      <td>0.022877</td>\n",
       "      <td>...</td>\n",
       "      <td>0.020</td>\n",
       "      <td>0.016</td>\n",
       "      <td>0.059000</td>\n",
       "      <td>6.896</td>\n",
       "      <td>6.921</td>\n",
       "      <td>6.932</td>\n",
       "      <td>0.026</td>\n",
       "      <td>0.024</td>\n",
       "      <td>0.016</td>\n",
       "      <td>0</td>\n",
       "    </tr>\n",
       "    <tr>\n",
       "      <th>2</th>\n",
       "      <td>HD  83162</td>\n",
       "      <td>A0III/IV</td>\n",
       "      <td>144.03845</td>\n",
       "      <td>-12.459262</td>\n",
       "      <td>10.51200</td>\n",
       "      <td>0.02303</td>\n",
       "      <td>10.692000</td>\n",
       "      <td>0.027126</td>\n",
       "      <td>10.866000</td>\n",
       "      <td>0.022877</td>\n",
       "      <td>...</td>\n",
       "      <td>0.020</td>\n",
       "      <td>0.074</td>\n",
       "      <td>0.099197</td>\n",
       "      <td>10.408</td>\n",
       "      <td>10.400</td>\n",
       "      <td>10.378</td>\n",
       "      <td>0.026</td>\n",
       "      <td>0.021</td>\n",
       "      <td>0.023</td>\n",
       "      <td>0</td>\n",
       "    </tr>\n",
       "    <tr>\n",
       "      <th>3</th>\n",
       "      <td>*  10 Boo</td>\n",
       "      <td>A0Vs</td>\n",
       "      <td>209.66217</td>\n",
       "      <td>21.696203</td>\n",
       "      <td>15.12594</td>\n",
       "      <td>0.02303</td>\n",
       "      <td>14.982256</td>\n",
       "      <td>0.027126</td>\n",
       "      <td>6.860300</td>\n",
       "      <td>0.104200</td>\n",
       "      <td>...</td>\n",
       "      <td>0.046</td>\n",
       "      <td>0.015</td>\n",
       "      <td>0.037000</td>\n",
       "      <td>5.671</td>\n",
       "      <td>5.717</td>\n",
       "      <td>5.704</td>\n",
       "      <td>0.023</td>\n",
       "      <td>0.063</td>\n",
       "      <td>0.020</td>\n",
       "      <td>0</td>\n",
       "    </tr>\n",
       "    <tr>\n",
       "      <th>4</th>\n",
       "      <td>HD  27616</td>\n",
       "      <td>A0V</td>\n",
       "      <td>65.16255</td>\n",
       "      <td>-20.639620</td>\n",
       "      <td>15.12594</td>\n",
       "      <td>0.02303</td>\n",
       "      <td>14.982256</td>\n",
       "      <td>0.027126</td>\n",
       "      <td>6.320600</td>\n",
       "      <td>0.000000</td>\n",
       "      <td>...</td>\n",
       "      <td>0.072</td>\n",
       "      <td>0.015</td>\n",
       "      <td>0.036000</td>\n",
       "      <td>5.430</td>\n",
       "      <td>5.402</td>\n",
       "      <td>5.333</td>\n",
       "      <td>0.054</td>\n",
       "      <td>0.036</td>\n",
       "      <td>0.017</td>\n",
       "      <td>0</td>\n",
       "    </tr>\n",
       "  </tbody>\n",
       "</table>\n",
       "<p>5 rows × 29 columns</p>\n",
       "</div>"
      ],
      "text/plain": [
       "          ID   sp_type      RAdeg      DEdeg   PS1gmag  e_PS1gmag    PS1rmag  \\\n",
       "0  *  11 Peg       A0V  326.80817   2.686124   5.55600    0.02303   5.760000   \n",
       "1  HD 203977        A0  321.20044  25.880459  15.12594    0.02303   7.611600   \n",
       "2  HD  83162  A0III/IV  144.03845 -12.459262  10.51200    0.02303  10.692000   \n",
       "3  *  10 Boo      A0Vs  209.66217  21.696203  15.12594    0.02303  14.982256   \n",
       "4  HD  27616       A0V   65.16255 -20.639620  15.12594    0.02303  14.982256   \n",
       "\n",
       "   e_PS1rmag    PS1imag  e_PS1imag  ...  e_W2mag  e_W3mag   e_W4mag    Jmag  \\\n",
       "0   0.027126   5.947000   0.022877  ...    0.050    0.015  0.044000   5.562   \n",
       "1   0.001000  14.918063   0.022877  ...    0.020    0.016  0.059000   6.896   \n",
       "2   0.027126  10.866000   0.022877  ...    0.020    0.074  0.099197  10.408   \n",
       "3   0.027126   6.860300   0.104200  ...    0.046    0.015  0.037000   5.671   \n",
       "4   0.027126   6.320600   0.000000  ...    0.072    0.015  0.036000   5.430   \n",
       "\n",
       "     Hmag    Kmag  e_Jmag  e_Hmag  e_Kmag  label  \n",
       "0   5.539   5.479   0.017   0.026   0.020      0  \n",
       "1   6.921   6.932   0.026   0.024   0.016      0  \n",
       "2  10.400  10.378   0.026   0.021   0.023      0  \n",
       "3   5.717   5.704   0.023   0.063   0.020      0  \n",
       "4   5.402   5.333   0.054   0.036   0.017      0  \n",
       "\n",
       "[5 rows x 29 columns]"
      ]
     },
     "execution_count": 83,
     "metadata": {},
     "output_type": "execute_result"
    }
   ],
   "source": [
    "for column in df.columns:\n",
    "    if column in [\"ID\", \"sp_type\"]: #Skipping these\n",
    "        continue\n",
    "  \n",
    "    df[column] = df[column].fillna(df[column].mean()) #Imputing NA values with mean\n",
    "\n",
    "df.head()"
   ]
  },
  {
   "cell_type": "markdown",
   "metadata": {},
   "source": [
    "Encode the vector \"sp_type\" as it is categorical"
   ]
  },
  {
   "cell_type": "code",
   "execution_count": 84,
   "metadata": {},
   "outputs": [],
   "source": [
    "X = df.drop('ID', axis=1)\n",
    "unique_values =len(X[\"sp_type\"].unique()) # 504\n",
    "X['sp_type'], _ = pd.factorize(X['sp_type'])"
   ]
  },
  {
   "cell_type": "markdown",
   "metadata": {},
   "source": [
    "Split the dataframe/array into data and ground truth"
   ]
  },
  {
   "cell_type": "code",
   "execution_count": 85,
   "metadata": {},
   "outputs": [],
   "source": [
    "y = X[\"label\"]\n",
    "X = X.drop(columns=[\"label\"])\n"
   ]
  },
  {
   "cell_type": "code",
   "execution_count": 86,
   "metadata": {},
   "outputs": [],
   "source": [
    "from sklearn.model_selection import train_test_split\n",
    "X_train,  X_test, y_train,y_test = train_test_split(X, y, test_size=0.2, random_state=42)"
   ]
  },
  {
   "cell_type": "markdown",
   "metadata": {},
   "source": [
    "Scale the data with respect to the training data X_train"
   ]
  },
  {
   "cell_type": "code",
   "execution_count": 87,
   "metadata": {},
   "outputs": [],
   "source": [
    "from sklearn.preprocessing import StandardScaler\n",
    "\n",
    "scaler = StandardScaler()\n",
    "X_train = scaler.fit_transform(X_train)\n",
    "X_test = scaler.transform(X_test)"
   ]
  },
  {
   "cell_type": "markdown",
   "metadata": {},
   "source": [
    "PCA to find the five vectors with the most variance, five is choosen arbitrarly"
   ]
  },
  {
   "cell_type": "code",
   "execution_count": 88,
   "metadata": {},
   "outputs": [],
   "source": [
    "from sklearn.decomposition import PCA\n",
    "\n",
    "pca = PCA(n_components=5)\n",
    "\n",
    "pca.fit(X_train)\n",
    "X_train = pca.transform(X_train)\n",
    "X_test = pca.transform(X_test)"
   ]
  },
  {
   "cell_type": "code",
   "execution_count": 89,
   "metadata": {},
   "outputs": [],
   "source": [
    "import numpy as np\n",
    "y_train, y_test = np.array(y_train), np.array(y_test)"
   ]
  },
  {
   "cell_type": "markdown",
   "metadata": {},
   "source": [
    "Neural Net for binary classification 5x64x32x1"
   ]
  },
  {
   "cell_type": "code",
   "execution_count": 90,
   "metadata": {},
   "outputs": [],
   "source": [
    "import torch\n",
    "import torch.nn as nn\n",
    "import torch.optim as optim\n",
    "from torch.utils.data import TensorDataset, DataLoader\n",
    "\n",
    "\n",
    "\n",
    "# Convert numpy arrays or pandas DataFrames to PyTorch tensors if needed\n",
    "X_train = torch.tensor(X_train, dtype=torch.float32)\n",
    "y_train = torch.tensor(y_train, dtype=torch.long)\n",
    "\n",
    "# Defining a simple neural network class for binary classification\n",
    "class NeuralNet(nn.Module):\n",
    "    def __init__(self, input_size, activation):\n",
    "        super(NeuralNet, self).__init__()\n",
    "        self.fc1 = nn.Linear(input_size, 128)\n",
    "        self.activation = activation       # Arbitrary activation function\n",
    "        self.fc2 = nn.Linear(128, 64)\n",
    "        self.fc3 = nn.Linear(64, 1)  # Output layer with single neuron (binary classification)\n",
    "\n",
    "    def forward(self, x):\n",
    "        x = self.activation(self.fc1(x))\n",
    "        x = self.activation(self.fc2(x))\n",
    "        x = torch.sigmoid(self.fc3(x))  # Apply sigmoid activation for binary classification of final output\n",
    "        return x\n"
   ]
  },
  {
   "cell_type": "code",
   "execution_count": 91,
   "metadata": {},
   "outputs": [
    {
     "name": "stdout",
     "output_type": "stream",
     "text": [
      "Training with activation function: ReLU()\n",
      "Epoch 1, Loss: 0.23130279538077367\n",
      "Epoch 2, Loss: 0.08561729776187682\n",
      "Epoch 3, Loss: 0.07644116526968042\n",
      "Epoch 4, Loss: 0.07425474856888324\n",
      "Epoch 5, Loss: 0.07146950286458915\n",
      "Epoch 6, Loss: 0.06989442683021788\n",
      "Epoch 7, Loss: 0.06859297955303754\n",
      "Epoch 8, Loss: 0.06687262951409523\n",
      "Epoch 9, Loss: 0.06640442127598004\n",
      "Epoch 10, Loss: 0.06436048457267839\n",
      "Training with activation function: Sigmoid()\n",
      "Epoch 1, Loss: 0.5383932708014905\n",
      "Epoch 2, Loss: 0.31575313168512265\n",
      "Epoch 3, Loss: 0.16566518568237062\n",
      "Epoch 4, Loss: 0.13026241606599848\n",
      "Epoch 5, Loss: 0.11882227779903883\n",
      "Epoch 6, Loss: 0.11529325515451566\n",
      "Epoch 7, Loss: 0.11199580363824334\n",
      "Epoch 8, Loss: 0.10933301624068072\n",
      "Epoch 9, Loss: 0.10729433966039771\n",
      "Epoch 10, Loss: 0.10527702394715498\n"
     ]
    },
    {
     "name": "stderr",
     "output_type": "stream",
     "text": [
      "C:\\Users\\iver_y\\AppData\\Local\\Temp\\ipykernel_33700\\1365282481.py:45: UserWarning: To copy construct from a tensor, it is recommended to use sourceTensor.clone().detach() or sourceTensor.clone().detach().requires_grad_(True), rather than torch.tensor(sourceTensor).\n",
      "  X_test = torch.tensor(X_test, dtype=torch.float32)\n"
     ]
    },
    {
     "name": "stdout",
     "output_type": "stream",
     "text": [
      "Training with activation function: Tanh()\n",
      "Epoch 1, Loss: 0.2477248256475153\n",
      "Epoch 2, Loss: 0.12266137183342181\n",
      "Epoch 3, Loss: 0.11406810867639494\n",
      "Epoch 4, Loss: 0.10842259587641333\n",
      "Epoch 5, Loss: 0.10227349801907237\n",
      "Epoch 6, Loss: 0.09879915250963728\n",
      "Epoch 7, Loss: 0.09152691577836661\n",
      "Epoch 8, Loss: 0.08663136973767213\n",
      "Epoch 9, Loss: 0.08439941096945967\n",
      "Epoch 10, Loss: 0.07957610333154738\n",
      "Training with activation function: Hardtanh(min_val=-1.0, max_val=1.0)\n",
      "Epoch 1, Loss: 0.21709173235674978\n",
      "Epoch 2, Loss: 0.12101873734467467\n",
      "Epoch 3, Loss: 0.11070107422034506\n",
      "Epoch 4, Loss: 0.10077548827188955\n",
      "Epoch 5, Loss: 0.09375581035101918\n",
      "Epoch 6, Loss: 0.08701637686348297\n",
      "Epoch 7, Loss: 0.08080929045526075\n",
      "Epoch 8, Loss: 0.07697539175794997\n",
      "Epoch 9, Loss: 0.07278257870758084\n",
      "Epoch 10, Loss: 0.07043419501573688\n"
     ]
    }
   ],
   "source": [
    "activation_functions = [nn.ReLU(), nn.Sigmoid(), nn.Tanh(), nn.Hardtanh()]\n",
    "losses = [] #Might turn into dict to make it more readable\n",
    "for activation in activation_functions:\n",
    "    print(f\"Training with activation function: {activation}\")\n",
    "    # Initialize the neural network\n",
    "    input_size = X_train.shape[1]\n",
    "    model = NeuralNet(input_size, activation)\n",
    "\n",
    "    # Define loss function and optimizer\n",
    "    criterion = nn.BCELoss()  # Binary Cross-Entropy Loss\n",
    "    optimizer = optim.Adam(model.parameters(), lr=0.001)\n",
    "\n",
    "    # Prepare data for training using DataLoader\n",
    "    batch_size = 64\n",
    "    train_dataset = TensorDataset(X_train, y_train)\n",
    "    train_loader = DataLoader(train_dataset, batch_size=batch_size, shuffle=True)\n",
    "\n",
    "    # Training loop\n",
    "    num_epochs = 10\n",
    "    temp_loss = []\n",
    "    for epoch in range(num_epochs):\n",
    "        running_loss = 0.0\n",
    "        for inputs, labels in train_loader:\n",
    "            # Zero the parameter gradients\n",
    "            optimizer.zero_grad()\n",
    "\n",
    "            # Forward pass\n",
    "            outputs = model(inputs)\n",
    "            outputs = outputs.squeeze(dim=1)  # Remove extra dimension for binary classification\n",
    "            loss = criterion(outputs, labels.float())  # Calculate loss\n",
    "\n",
    "            # Backward pass and optimize\n",
    "            loss.backward()\n",
    "            optimizer.step()\n",
    "\n",
    "            running_loss += loss.item()\n",
    "\n",
    "        # Print average loss per epoch\n",
    "        print(f\"Epoch {epoch+1}, Loss: {running_loss / len(train_loader)}\")\n",
    "        temp_loss.append(running_loss / len(train_loader))\n",
    "    losses.append(temp_loss)\n",
    "\n",
    "    # Example: Make predictions\n",
    "    # Assuming X_test is your test data\n",
    "    X_test = torch.tensor(X_test, dtype=torch.float32)\n",
    "    model.eval()  # Switch to evaluation mode\n",
    "    with torch.no_grad():\n",
    "        predictions = model(X_test)\n",
    "        predictions = (predictions > 0.5).int()  # Convert probabilities to binary predictions (0 or 1)\n",
    "\n",
    "    #Saving model for later use\n",
    "    torch.save(model.state_dict(), './models/activation_test/'+type(activation).__name__+'_binary_classification_model.pth') #Windows\n",
    "\n",
    "\n"
   ]
  },
  {
   "cell_type": "code",
   "execution_count": 92,
   "metadata": {},
   "outputs": [
    {
     "data": {
      "image/png": "[encoded data removed]",
      "text/plain": [
       "<Figure size 640x480 with 1 Axes>"
      ]
     },
     "metadata": {},
     "output_type": "display_data"
    }
   ],
   "source": [
    "import matplotlib.pyplot as plt\n",
    "for i, loss in enumerate(losses):\n",
    "    plt.plot(loss, \"-o\", label=str(activation_functions[i]))\n",
    "plt.legend()\n",
    "plt.xlabel(\"Epoch\")\n",
    "plt.ylabel(\"Loss\")\n",
    "plt.title(\"Training Loss vs. Epoch for Different Activation Functions\")\n",
    "plt.show()"
   ]
  },
  {
   "cell_type": "markdown",
   "metadata": {},
   "source": [
    "Testing with F1 score as brown dwarfs are rare which is also true in the data set"
   ]
  },
  {
   "cell_type": "code",
   "execution_count": 93,
   "metadata": {},
   "outputs": [
    {
     "name": "stdout",
     "output_type": "stream",
     "text": [
      "Evaluating model with activation function: ReLU()\n",
      "<torch.utils.data.dataloader.DataLoader object at 0x0000020827C88790>\n",
      "F1 Score: 0.9669291338582677\n",
      "Matthews Correlation Coefficient (MCC): 0.9541275263869796\n",
      "Accuracy: 0.9814814814814815\n",
      "Precision: 0.959375\n",
      "Recall: 0.9746031746031746\n",
      "Confusion Matrix: [[806  13]\n",
      " [  8 307]]\n",
      "Evaluating model with activation function: Sigmoid()\n",
      "<torch.utils.data.dataloader.DataLoader object at 0x000002081A133340>\n",
      "F1 Score: 0.9473684210526315\n",
      "Matthews Correlation Coefficient (MCC): 0.9272796428027865\n",
      "Accuracy: 0.9708994708994709\n",
      "Precision: 0.9519230769230769\n",
      "Recall: 0.9428571428571428\n",
      "Confusion Matrix: [[804  15]\n",
      " [ 18 297]]\n",
      "Evaluating model with activation function: Tanh()\n",
      "<torch.utils.data.dataloader.DataLoader object at 0x000002081EF44970>\n",
      "F1 Score: 0.9589905362776026\n",
      "Matthews Correlation Coefficient (MCC): 0.943115704766402\n",
      "Accuracy: 0.9770723104056437\n",
      "Precision: 0.9529780564263323\n",
      "Recall: 0.9650793650793651\n",
      "Confusion Matrix: [[804  15]\n",
      " [ 11 304]]\n",
      "Evaluating model with activation function: Hardtanh(min_val=-1.0, max_val=1.0)\n",
      "<torch.utils.data.dataloader.DataLoader object at 0x0000020826EC9A20>\n",
      "F1 Score: 0.9559748427672956\n",
      "Matthews Correlation Coefficient (MCC): 0.9389007905899994\n",
      "Accuracy: 0.9753086419753086\n",
      "Precision: 0.9470404984423676\n",
      "Recall: 0.9650793650793651\n",
      "Confusion Matrix: [[802  17]\n",
      " [ 11 304]]\n"
     ]
    },
    {
     "name": "stderr",
     "output_type": "stream",
     "text": [
      "C:\\Users\\iver_y\\AppData\\Local\\Temp\\ipykernel_33700\\2163641453.py:18: UserWarning: To copy construct from a tensor, it is recommended to use sourceTensor.clone().detach() or sourceTensor.clone().detach().requires_grad_(True), rather than torch.tensor(sourceTensor).\n",
      "  y_test = torch.tensor(y_test, dtype=torch.float32)\n",
      "C:\\Users\\iver_y\\AppData\\Local\\Temp\\ipykernel_33700\\2163641453.py:18: UserWarning: To copy construct from a tensor, it is recommended to use sourceTensor.clone().detach() or sourceTensor.clone().detach().requires_grad_(True), rather than torch.tensor(sourceTensor).\n",
      "  y_test = torch.tensor(y_test, dtype=torch.float32)\n",
      "C:\\Users\\iver_y\\AppData\\Local\\Temp\\ipykernel_33700\\2163641453.py:18: UserWarning: To copy construct from a tensor, it is recommended to use sourceTensor.clone().detach() or sourceTensor.clone().detach().requires_grad_(True), rather than torch.tensor(sourceTensor).\n",
      "  y_test = torch.tensor(y_test, dtype=torch.float32)\n"
     ]
    }
   ],
   "source": [
    "from sklearn.metrics import f1_score\n",
    "from sklearn.metrics import matthews_corrcoef, accuracy_score, precision_score, recall_score, confusion_matrix\n",
    "\n",
    "\n",
    "all_metrics = {}\n",
    "all_confusion_matrices = {}\n",
    "for activation in activation_functions:\n",
    "    print(f\"Evaluating model with activation function: {activation}\")\n",
    "    # Load the trained model\n",
    "    input_size = 5  # Assuming the input size based on X_train\n",
    "    model = NeuralNet(input_size, activation)\n",
    "    # model.load_state_dict(torch.load('./models/binary_classification_model.pth'))  # Load the trained model state  (Windows)\n",
    "    model.load_state_dict(torch.load('models/activation_test/'+type(activation).__name__+'_binary_classification_model.pth'))  # Load the trained model state (MACos)\n",
    "\n",
    "\n",
    "    # Assuming X_test and y_test are your test data\n",
    "    X_test = X_test.float()\n",
    "    y_test = torch.tensor(y_test, dtype=torch.float32)\n",
    "\n",
    "    # Prepare test dataset and dataloader\n",
    "    batch_size = 64\n",
    "    test_dataset = TensorDataset(X_test, y_test)\n",
    "    test_loader = DataLoader(test_dataset, batch_size=batch_size, shuffle=False)  # No need to shuffle for testing\n",
    "\n",
    "    # Evaluate the model on the test set using F1 score\n",
    "    model.eval()  # Switch to evaluation mode\n",
    "    y_true = []\n",
    "    y_pred = []\n",
    "    print(test_loader)\n",
    "    with torch.no_grad():\n",
    "        for inputs, labels in test_loader:\n",
    "            outputs = model(inputs)\n",
    "            predicted = (outputs > 0.5).float()  # Convert probabilities to binary predictions (0 or 1)\n",
    "            y_true.extend(labels.cpu().numpy())\n",
    "            y_pred.extend(predicted.cpu().numpy())\n",
    "\n",
    "    # Calculate F1 score\n",
    "    f1 = f1_score(y_true, y_pred)\n",
    "    print(f\"F1 Score: {f1}\")\n",
    "\n",
    "    # Calculate Matthews Correlation Coefficient (MCC)\n",
    "    mcc = matthews_corrcoef(y_true, y_pred)\n",
    "    print(\"Matthews Correlation Coefficient (MCC):\", mcc)\n",
    "\n",
    "    # Compute accuracy, precision and recall\n",
    "    accuracy = accuracy_score(y_true, y_pred)\n",
    "    precision = precision_score(y_true, y_pred, average='binary')  # Change average as needed\n",
    "    recall = recall_score(y_true, y_pred, average='binary')  # Change average as needed\n",
    "\n",
    "    print(\"Accuracy:\", accuracy)\n",
    "    print(\"Precision:\", precision)\n",
    "    print(\"Recall:\", recall)\n",
    "\n",
    "    # Confusion matrix\n",
    "    conf_matrix = confusion_matrix(y_true, y_pred)\n",
    "    print(\"Confusion Matrix:\", conf_matrix)\n",
    "\n",
    "    # Store the metrics in a dictionary for easy plotting\n",
    "    metrics = {'F1 Score': f1, 'MCC': mcc, 'Accuracy': accuracy, 'Precision': precision, 'Recall': recall}\n",
    "    \n",
    "    all_metrics[type(activation).__name__] = metrics\n",
    "    all_confusion_matrices[type(activation).__name__] = conf_matrix"
   ]
  },
  {
   "cell_type": "code",
   "execution_count": 94,
   "metadata": {},
   "outputs": [
    {
     "data": {
      "text/plain": [
       "<Axes: xlabel='Metrics'>"
      ]
     },
     "execution_count": 94,
     "metadata": {},
     "output_type": "execute_result"
    },
    {
     "data": {
      "image/png": "[encoded data removed]",
      "text/plain": [
       "<Figure size 640x480 with 1 Axes>"
      ]
     },
     "metadata": {},
     "output_type": "display_data"
    }
   ],
   "source": [
    "# Convert the all_metrics dictionary to a DataFrame\n",
    "data = pd.DataFrame(all_metrics)\n",
    "\n",
    "# Reset the index to make 'Metrics' a column\n",
    "data = data.reset_index().rename(columns={'index': 'Metrics'})\n",
    "\n",
    "# Melt the DataFrame to get it in long format\n",
    "data = pd.melt(data, id_vars='Metrics', var_name='Activation Function', value_name='Value')\n",
    "\n",
    "# Set the index and unstack the DataFrame\n",
    "data = data.set_index(['Metrics', 'Activation Function']).Value\n",
    "data.unstack().plot(kind='bar', stacked=False)"
   ]
  },
  {
   "cell_type": "markdown",
   "metadata": {},
   "source": [
    "## Confusion matrix comparison"
   ]
  },
  {
   "cell_type": "code",
   "execution_count": 95,
   "metadata": {},
   "outputs": [
    {
     "data": {
      "image/png": "[encoded data removed]",
      "text/plain": [
       "<Figure size 2000x500 with 8 Axes>"
      ]
     },
     "metadata": {},
     "output_type": "display_data"
    }
   ],
   "source": [
    "import seaborn as sns\n",
    "\n",
    "fig, axes = plt.subplots(1, len(activation_functions), figsize=(20, 5))\n",
    "\n",
    "for i, activation in enumerate(activation_functions):\n",
    "    # Assume you have a function `get_conf_matrix` that returns the confusion matrix for a given activation function\n",
    "    conf_matrix = all_confusion_matrices[type(activation).__name__]\n",
    "\n",
    "    # Create a heatmap for the confusion matrix on the i-th subplot\n",
    "    sns.heatmap(conf_matrix, annot=True, fmt='d', cmap='Blues', ax=axes[i])\n",
    "\n",
    "    # Set the title, x-label, and y-label for the i-th subplot\n",
    "    axes[i].set_title(f'Confusion Matrix ({activation})')\n",
    "    axes[i].set_xlabel('Predicted')\n",
    "    axes[i].set_ylabel('True')\n",
    "\n",
    "plt.tight_layout()\n",
    "plt.show()"
   ]
  },
  {
   "cell_type": "code",
   "execution_count": null,
   "metadata": {},
   "outputs": [],
   "source": []
  }
 ],
 "metadata": {
  "kernelspec": {
   "display_name": "italia_project_dl",
   "language": "python",
   "name": "python3"
  },
  "language_info": {
   "codemirror_mode": {
    "name": "ipython",
    "version": 3
   },
   "file_extension": ".py",
   "mimetype": "text/x-python",
   "name": "python",
   "nbconvert_exporter": "python",
   "pygments_lexer": "ipython3",
   "version": "3.10.7"
  }
 },
 "nbformat": 4,
 "nbformat_minor": 2
}
