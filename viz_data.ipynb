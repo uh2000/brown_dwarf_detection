{
 "cells": [
  {
   "cell_type": "code",
   "execution_count": 79,
   "metadata": {},
   "outputs": [],
   "source": [
    "import pandas as pd\n",
    "from scipy.io import loadmat\n",
    "\n",
    "import h5py"
   ]
  },
  {
   "cell_type": "code",
   "execution_count": 80,
   "metadata": {},
   "outputs": [
    {
     "data": {
      "text/plain": [
       "<KeysViewHDF5 ['#refs#', '#subsystem#', 'MCC', 'Perf', 'Precision', 'Recall', 'ReferenceResult', 'Result', 'a', 'ans', 'b', 'confMatrix', 'data', 'feat', 'fid', 'fold', 'idTE', 'idTR', 'indices', 'label', 'labelTE', 'labelTR', 'pat', 'pattern', 'rocObj', 'scoreLibSVMnoRed', 'test', 'tokens', 'train']>"
      ]
     },
     "execution_count": 80,
     "metadata": {},
     "output_type": "execute_result"
    }
   ],
   "source": [
    "#data_path_original = \"Brown-Dwarfs/dataset_bd_wnames.csv\"\n",
    "mat_file = \"original_dataset/ReadBrownDwarf.mat\"\n",
    "\n",
    "f = h5py.File(mat_file, 'r')\n",
    "f.keys()\n"
   ]
  },
  {
   "cell_type": "code",
   "execution_count": 81,
   "metadata": {},
   "outputs": [
    {
     "name": "stdout",
     "output_type": "stream",
     "text": [
      "<class 'pandas.core.frame.DataFrame'>\n",
      "RangeIndex: 5669 entries, 0 to 5668\n",
      "Data columns (total 26 columns):\n",
      " #   Column  Non-Null Count  Dtype  \n",
      "---  ------  --------------  -----  \n",
      " 0   0       5669 non-null   float64\n",
      " 1   1       5669 non-null   float64\n",
      " 2   2       5669 non-null   float64\n",
      " 3   3       5669 non-null   float64\n",
      " 4   4       5669 non-null   float64\n",
      " 5   5       5669 non-null   float64\n",
      " 6   6       5669 non-null   float64\n",
      " 7   7       5669 non-null   float64\n",
      " 8   8       5669 non-null   float64\n",
      " 9   9       5669 non-null   float64\n",
      " 10  10      5669 non-null   float64\n",
      " 11  11      5669 non-null   float64\n",
      " 12  12      5669 non-null   float64\n",
      " 13  13      5669 non-null   float64\n",
      " 14  14      5669 non-null   float64\n",
      " 15  15      5669 non-null   float64\n",
      " 16  16      5669 non-null   float64\n",
      " 17  17      5669 non-null   float64\n",
      " 18  18      5669 non-null   float64\n",
      " 19  19      5669 non-null   float64\n",
      " 20  20      5669 non-null   float64\n",
      " 21  21      5669 non-null   float64\n",
      " 22  22      5669 non-null   float64\n",
      " 23  23      5669 non-null   float64\n",
      " 24  24      5669 non-null   float64\n",
      " 25  25      5669 non-null   float64\n",
      "dtypes: float64(26)\n",
      "memory usage: 1.1 MB\n"
     ]
    }
   ],
   "source": [
    "with h5py.File(mat_file, 'r') as f:\n",
    "    data = f['data'][:]\n",
    "    df_data = pd.DataFrame(data).T\n",
    "\n",
    "df_data.info()"
   ]
  },
  {
   "cell_type": "code",
   "execution_count": 82,
   "metadata": {},
   "outputs": [
    {
     "name": "stdout",
     "output_type": "stream",
     "text": [
      "<HDF5 dataset \"q\": shape (4535, 1), type \"<f8\">\n",
      "<class 'pandas.core.frame.DataFrame'>\n",
      "RangeIndex: 4535 entries, 0 to 4534\n",
      "Data columns (total 1 columns):\n",
      " #   Column  Non-Null Count  Dtype  \n",
      "---  ------  --------------  -----  \n",
      " 0   0       4535 non-null   float64\n",
      "dtypes: float64(1)\n",
      "memory usage: 35.6 KB\n"
     ]
    }
   ],
   "source": [
    "with h5py.File(mat_file, 'r') as f:\n",
    "    # Access the dataset\n",
    "    data = f['labelTR']\n",
    "\n",
    "    # Access a specific reference\n",
    "    ref = data[0, 0]  # Change the indices to access different references\n",
    "\n",
    "    # Dereference the reference\n",
    "    element = f[ref]\n",
    "    df_label_tr = pd.DataFrame(element)\n",
    "    print(element)\n",
    "\n",
    "df_label_tr.info()"
   ]
  },
  {
   "cell_type": "code",
   "execution_count": 83,
   "metadata": {},
   "outputs": [
    {
     "name": "stdout",
     "output_type": "stream",
     "text": [
      "<HDF5 dataset \"l\": shape (1134, 1), type \"<f8\">\n",
      "<class 'pandas.core.frame.DataFrame'>\n",
      "RangeIndex: 1134 entries, 0 to 1133\n",
      "Data columns (total 1 columns):\n",
      " #   Column  Non-Null Count  Dtype  \n",
      "---  ------  --------------  -----  \n",
      " 0   0       1134 non-null   float64\n",
      "dtypes: float64(1)\n",
      "memory usage: 9.0 KB\n"
     ]
    }
   ],
   "source": [
    "with h5py.File(mat_file, 'r') as f:\n",
    "    # Access the dataset\n",
    "    data = f['labelTE']\n",
    "\n",
    "    # Access a specific reference\n",
    "    ref = data[0, 0]  # Change the indices to access different references\n",
    "\n",
    "    # Dereference the reference\n",
    "    element = f[ref]\n",
    "    df_label_te = pd.DataFrame(element)\n",
    "    print(element)\n",
    "\n",
    "df_label_te.info()"
   ]
  },
  {
   "cell_type": "code",
   "execution_count": 84,
   "metadata": {},
   "outputs": [
    {
     "data": {
      "text/plain": [
       "array([2., 1.])"
      ]
     },
     "execution_count": 84,
     "metadata": {},
     "output_type": "execute_result"
    }
   ],
   "source": [
    "tr_unique = df_label_tr[0].unique()\n",
    "tr_unique"
   ]
  },
  {
   "cell_type": "code",
   "execution_count": 85,
   "metadata": {},
   "outputs": [
    {
     "data": {
      "text/plain": [
       "array([2., 1.])"
      ]
     },
     "execution_count": 85,
     "metadata": {},
     "output_type": "execute_result"
    }
   ],
   "source": [
    "te_unique = df_label_te[0].unique()\n",
    "te_unique"
   ]
  },
  {
   "cell_type": "code",
   "execution_count": 86,
   "metadata": {},
   "outputs": [
    {
     "data": {
      "text/plain": [
       "(0    1278\n",
       " dtype: int64,\n",
       " 0    3257\n",
       " dtype: int64)"
      ]
     },
     "execution_count": 86,
     "metadata": {},
     "output_type": "execute_result"
    }
   ],
   "source": [
    "ones_tr = df_label_tr[df_label_tr[0] == 1].count()\n",
    "twoes_tr = df_label_tr[df_label_tr[0] == 2].count()\n",
    "ones_tr, twoes_tr"
   ]
  },
  {
   "cell_type": "code",
   "execution_count": 87,
   "metadata": {},
   "outputs": [
    {
     "data": {
      "text/plain": [
       "(0    320\n",
       " dtype: int64,\n",
       " 0    814\n",
       " dtype: int64)"
      ]
     },
     "execution_count": 87,
     "metadata": {},
     "output_type": "execute_result"
    }
   ],
   "source": [
    "ones_te = df_label_te[df_label_te[0] == 1].count()\n",
    "twoes_te = df_label_te[df_label_te[0] == 2].count()\n",
    "ones_te, twoes_te"
   ]
  },
  {
   "cell_type": "code",
   "execution_count": 88,
   "metadata": {},
   "outputs": [],
   "source": [
    "df_label_tr[df_label_tr[0] == 1] = 0\n",
    "df_label_tr[df_label_tr[0] == 2] = 1\n",
    "\n",
    "df_label_te[df_label_te[0] == 1] = 0\n",
    "df_label_te[df_label_te[0] == 2] = 1\n",
    "\n"
   ]
  },
  {
   "cell_type": "code",
   "execution_count": 89,
   "metadata": {},
   "outputs": [
    {
     "data": {
      "text/plain": [
       "((5669, 26), (4535, 1), (1134, 1))"
      ]
     },
     "execution_count": 89,
     "metadata": {},
     "output_type": "execute_result"
    }
   ],
   "source": [
    "df_data.shape, df_label_tr.shape, df_label_te.shape"
   ]
  },
  {
   "cell_type": "markdown",
   "metadata": {},
   "source": [
    "Assume the first 4535 rows of the df_data dataframe should be mapped to df_label_tr dataframe and that the last 1134 rows should be mapped to df_label_te"
   ]
  },
  {
   "cell_type": "code",
   "execution_count": 90,
   "metadata": {},
   "outputs": [
    {
     "data": {
      "text/plain": [
       "(5669, 1)"
      ]
     },
     "execution_count": 90,
     "metadata": {},
     "output_type": "execute_result"
    }
   ],
   "source": [
    "df_label = pd.concat([df_label_tr, df_label_te])\n",
    "df_label.reset_index(drop=True, inplace=True)\n",
    "df_label.shape"
   ]
  },
  {
   "cell_type": "code",
   "execution_count": 91,
   "metadata": {},
   "outputs": [],
   "source": [
    "df_data[\"label\"] = df_label[0]\n"
   ]
  },
  {
   "cell_type": "code",
   "execution_count": 92,
   "metadata": {},
   "outputs": [
    {
     "data": {
      "text/html": [
       "<div>\n",
       "<style scoped>\n",
       "    .dataframe tbody tr th:only-of-type {\n",
       "        vertical-align: middle;\n",
       "    }\n",
       "\n",
       "    .dataframe tbody tr th {\n",
       "        vertical-align: top;\n",
       "    }\n",
       "\n",
       "    .dataframe thead th {\n",
       "        text-align: right;\n",
       "    }\n",
       "</style>\n",
       "<table border=\"1\" class=\"dataframe\">\n",
       "  <thead>\n",
       "    <tr style=\"text-align: right;\">\n",
       "      <th></th>\n",
       "      <th>0</th>\n",
       "      <th>1</th>\n",
       "      <th>2</th>\n",
       "      <th>3</th>\n",
       "      <th>4</th>\n",
       "      <th>5</th>\n",
       "      <th>6</th>\n",
       "      <th>7</th>\n",
       "      <th>8</th>\n",
       "      <th>9</th>\n",
       "      <th>...</th>\n",
       "      <th>17</th>\n",
       "      <th>18</th>\n",
       "      <th>19</th>\n",
       "      <th>20</th>\n",
       "      <th>21</th>\n",
       "      <th>22</th>\n",
       "      <th>23</th>\n",
       "      <th>24</th>\n",
       "      <th>25</th>\n",
       "      <th>label</th>\n",
       "    </tr>\n",
       "  </thead>\n",
       "  <tbody>\n",
       "    <tr>\n",
       "      <th>0</th>\n",
       "      <td>326.808170</td>\n",
       "      <td>2.686124</td>\n",
       "      <td>5.5560</td>\n",
       "      <td>0.0000</td>\n",
       "      <td>5.7600</td>\n",
       "      <td>0.0000</td>\n",
       "      <td>5.9470</td>\n",
       "      <td>0.0000</td>\n",
       "      <td>6.0720</td>\n",
       "      <td>0.0000</td>\n",
       "      <td>...</td>\n",
       "      <td>0.050</td>\n",
       "      <td>0.015</td>\n",
       "      <td>0.044</td>\n",
       "      <td>5.562</td>\n",
       "      <td>5.539</td>\n",
       "      <td>5.479</td>\n",
       "      <td>0.017</td>\n",
       "      <td>0.026</td>\n",
       "      <td>0.020</td>\n",
       "      <td>1.0</td>\n",
       "    </tr>\n",
       "    <tr>\n",
       "      <th>1</th>\n",
       "      <td>321.200440</td>\n",
       "      <td>25.880459</td>\n",
       "      <td>0.0000</td>\n",
       "      <td>0.0000</td>\n",
       "      <td>7.6116</td>\n",
       "      <td>0.0010</td>\n",
       "      <td>0.0000</td>\n",
       "      <td>0.0000</td>\n",
       "      <td>7.5167</td>\n",
       "      <td>0.0010</td>\n",
       "      <td>...</td>\n",
       "      <td>0.020</td>\n",
       "      <td>0.016</td>\n",
       "      <td>0.059</td>\n",
       "      <td>6.896</td>\n",
       "      <td>6.921</td>\n",
       "      <td>6.932</td>\n",
       "      <td>0.026</td>\n",
       "      <td>0.024</td>\n",
       "      <td>0.016</td>\n",
       "      <td>1.0</td>\n",
       "    </tr>\n",
       "    <tr>\n",
       "      <th>2</th>\n",
       "      <td>144.038450</td>\n",
       "      <td>-12.459262</td>\n",
       "      <td>10.5120</td>\n",
       "      <td>0.0000</td>\n",
       "      <td>10.6920</td>\n",
       "      <td>0.0000</td>\n",
       "      <td>10.8660</td>\n",
       "      <td>0.0000</td>\n",
       "      <td>10.9890</td>\n",
       "      <td>0.0000</td>\n",
       "      <td>...</td>\n",
       "      <td>0.020</td>\n",
       "      <td>0.074</td>\n",
       "      <td>0.000</td>\n",
       "      <td>10.408</td>\n",
       "      <td>10.400</td>\n",
       "      <td>10.378</td>\n",
       "      <td>0.026</td>\n",
       "      <td>0.021</td>\n",
       "      <td>0.023</td>\n",
       "      <td>1.0</td>\n",
       "    </tr>\n",
       "    <tr>\n",
       "      <th>3</th>\n",
       "      <td>209.662170</td>\n",
       "      <td>21.696203</td>\n",
       "      <td>0.0000</td>\n",
       "      <td>0.0000</td>\n",
       "      <td>0.0000</td>\n",
       "      <td>0.0000</td>\n",
       "      <td>6.8603</td>\n",
       "      <td>0.1042</td>\n",
       "      <td>0.0000</td>\n",
       "      <td>0.0000</td>\n",
       "      <td>...</td>\n",
       "      <td>0.046</td>\n",
       "      <td>0.015</td>\n",
       "      <td>0.037</td>\n",
       "      <td>5.671</td>\n",
       "      <td>5.717</td>\n",
       "      <td>5.704</td>\n",
       "      <td>0.023</td>\n",
       "      <td>0.063</td>\n",
       "      <td>0.020</td>\n",
       "      <td>1.0</td>\n",
       "    </tr>\n",
       "    <tr>\n",
       "      <th>4</th>\n",
       "      <td>65.162550</td>\n",
       "      <td>-20.639620</td>\n",
       "      <td>0.0000</td>\n",
       "      <td>0.0000</td>\n",
       "      <td>0.0000</td>\n",
       "      <td>0.0000</td>\n",
       "      <td>6.3206</td>\n",
       "      <td>0.0000</td>\n",
       "      <td>5.9504</td>\n",
       "      <td>0.0031</td>\n",
       "      <td>...</td>\n",
       "      <td>0.072</td>\n",
       "      <td>0.015</td>\n",
       "      <td>0.036</td>\n",
       "      <td>5.430</td>\n",
       "      <td>5.402</td>\n",
       "      <td>5.333</td>\n",
       "      <td>0.054</td>\n",
       "      <td>0.036</td>\n",
       "      <td>0.017</td>\n",
       "      <td>1.0</td>\n",
       "    </tr>\n",
       "    <tr>\n",
       "      <th>...</th>\n",
       "      <td>...</td>\n",
       "      <td>...</td>\n",
       "      <td>...</td>\n",
       "      <td>...</td>\n",
       "      <td>...</td>\n",
       "      <td>...</td>\n",
       "      <td>...</td>\n",
       "      <td>...</td>\n",
       "      <td>...</td>\n",
       "      <td>...</td>\n",
       "      <td>...</td>\n",
       "      <td>...</td>\n",
       "      <td>...</td>\n",
       "      <td>...</td>\n",
       "      <td>...</td>\n",
       "      <td>...</td>\n",
       "      <td>...</td>\n",
       "      <td>...</td>\n",
       "      <td>...</td>\n",
       "      <td>...</td>\n",
       "      <td>...</td>\n",
       "    </tr>\n",
       "    <tr>\n",
       "      <th>5664</th>\n",
       "      <td>13.245956</td>\n",
       "      <td>49.443574</td>\n",
       "      <td>9.1227</td>\n",
       "      <td>0.2347</td>\n",
       "      <td>9.1823</td>\n",
       "      <td>0.0010</td>\n",
       "      <td>0.0000</td>\n",
       "      <td>0.0000</td>\n",
       "      <td>9.0066</td>\n",
       "      <td>0.0010</td>\n",
       "      <td>...</td>\n",
       "      <td>0.019</td>\n",
       "      <td>0.021</td>\n",
       "      <td>0.144</td>\n",
       "      <td>8.358</td>\n",
       "      <td>8.389</td>\n",
       "      <td>8.398</td>\n",
       "      <td>0.027</td>\n",
       "      <td>0.017</td>\n",
       "      <td>0.016</td>\n",
       "      <td>0.0</td>\n",
       "    </tr>\n",
       "    <tr>\n",
       "      <th>5665</th>\n",
       "      <td>29.647854</td>\n",
       "      <td>48.432832</td>\n",
       "      <td>0.0000</td>\n",
       "      <td>0.0000</td>\n",
       "      <td>9.5538</td>\n",
       "      <td>0.0010</td>\n",
       "      <td>0.0000</td>\n",
       "      <td>0.0000</td>\n",
       "      <td>10.7253</td>\n",
       "      <td>0.0010</td>\n",
       "      <td>...</td>\n",
       "      <td>0.019</td>\n",
       "      <td>0.026</td>\n",
       "      <td>0.297</td>\n",
       "      <td>8.778</td>\n",
       "      <td>8.804</td>\n",
       "      <td>8.766</td>\n",
       "      <td>0.021</td>\n",
       "      <td>0.016</td>\n",
       "      <td>0.020</td>\n",
       "      <td>1.0</td>\n",
       "    </tr>\n",
       "    <tr>\n",
       "      <th>5666</th>\n",
       "      <td>346.990957</td>\n",
       "      <td>54.326940</td>\n",
       "      <td>0.0000</td>\n",
       "      <td>0.0000</td>\n",
       "      <td>9.8405</td>\n",
       "      <td>0.0010</td>\n",
       "      <td>9.2025</td>\n",
       "      <td>0.0010</td>\n",
       "      <td>10.1089</td>\n",
       "      <td>0.0374</td>\n",
       "      <td>...</td>\n",
       "      <td>0.020</td>\n",
       "      <td>0.030</td>\n",
       "      <td>0.327</td>\n",
       "      <td>9.180</td>\n",
       "      <td>9.187</td>\n",
       "      <td>9.180</td>\n",
       "      <td>0.021</td>\n",
       "      <td>0.020</td>\n",
       "      <td>0.022</td>\n",
       "      <td>1.0</td>\n",
       "    </tr>\n",
       "    <tr>\n",
       "      <th>5667</th>\n",
       "      <td>331.173131</td>\n",
       "      <td>46.427253</td>\n",
       "      <td>10.4915</td>\n",
       "      <td>0.0630</td>\n",
       "      <td>10.2538</td>\n",
       "      <td>0.0239</td>\n",
       "      <td>10.0057</td>\n",
       "      <td>0.0074</td>\n",
       "      <td>10.4418</td>\n",
       "      <td>0.0315</td>\n",
       "      <td>...</td>\n",
       "      <td>0.020</td>\n",
       "      <td>0.033</td>\n",
       "      <td>0.000</td>\n",
       "      <td>9.693</td>\n",
       "      <td>9.678</td>\n",
       "      <td>9.622</td>\n",
       "      <td>0.024</td>\n",
       "      <td>0.029</td>\n",
       "      <td>0.023</td>\n",
       "      <td>1.0</td>\n",
       "    </tr>\n",
       "    <tr>\n",
       "      <th>5668</th>\n",
       "      <td>321.694044</td>\n",
       "      <td>43.812346</td>\n",
       "      <td>0.0000</td>\n",
       "      <td>0.0000</td>\n",
       "      <td>7.8477</td>\n",
       "      <td>0.3777</td>\n",
       "      <td>0.0000</td>\n",
       "      <td>0.0000</td>\n",
       "      <td>8.1665</td>\n",
       "      <td>0.0010</td>\n",
       "      <td>...</td>\n",
       "      <td>0.020</td>\n",
       "      <td>0.017</td>\n",
       "      <td>0.115</td>\n",
       "      <td>7.248</td>\n",
       "      <td>7.309</td>\n",
       "      <td>7.281</td>\n",
       "      <td>0.023</td>\n",
       "      <td>0.042</td>\n",
       "      <td>0.020</td>\n",
       "      <td>1.0</td>\n",
       "    </tr>\n",
       "  </tbody>\n",
       "</table>\n",
       "<p>5669 rows × 27 columns</p>\n",
       "</div>"
      ],
      "text/plain": [
       "               0          1        2       3        4       5        6  \\\n",
       "0     326.808170   2.686124   5.5560  0.0000   5.7600  0.0000   5.9470   \n",
       "1     321.200440  25.880459   0.0000  0.0000   7.6116  0.0010   0.0000   \n",
       "2     144.038450 -12.459262  10.5120  0.0000  10.6920  0.0000  10.8660   \n",
       "3     209.662170  21.696203   0.0000  0.0000   0.0000  0.0000   6.8603   \n",
       "4      65.162550 -20.639620   0.0000  0.0000   0.0000  0.0000   6.3206   \n",
       "...          ...        ...      ...     ...      ...     ...      ...   \n",
       "5664   13.245956  49.443574   9.1227  0.2347   9.1823  0.0010   0.0000   \n",
       "5665   29.647854  48.432832   0.0000  0.0000   9.5538  0.0010   0.0000   \n",
       "5666  346.990957  54.326940   0.0000  0.0000   9.8405  0.0010   9.2025   \n",
       "5667  331.173131  46.427253  10.4915  0.0630  10.2538  0.0239  10.0057   \n",
       "5668  321.694044  43.812346   0.0000  0.0000   7.8477  0.3777   0.0000   \n",
       "\n",
       "           7        8       9  ...     17     18     19      20      21  \\\n",
       "0     0.0000   6.0720  0.0000  ...  0.050  0.015  0.044   5.562   5.539   \n",
       "1     0.0000   7.5167  0.0010  ...  0.020  0.016  0.059   6.896   6.921   \n",
       "2     0.0000  10.9890  0.0000  ...  0.020  0.074  0.000  10.408  10.400   \n",
       "3     0.1042   0.0000  0.0000  ...  0.046  0.015  0.037   5.671   5.717   \n",
       "4     0.0000   5.9504  0.0031  ...  0.072  0.015  0.036   5.430   5.402   \n",
       "...      ...      ...     ...  ...    ...    ...    ...     ...     ...   \n",
       "5664  0.0000   9.0066  0.0010  ...  0.019  0.021  0.144   8.358   8.389   \n",
       "5665  0.0000  10.7253  0.0010  ...  0.019  0.026  0.297   8.778   8.804   \n",
       "5666  0.0010  10.1089  0.0374  ...  0.020  0.030  0.327   9.180   9.187   \n",
       "5667  0.0074  10.4418  0.0315  ...  0.020  0.033  0.000   9.693   9.678   \n",
       "5668  0.0000   8.1665  0.0010  ...  0.020  0.017  0.115   7.248   7.309   \n",
       "\n",
       "          22     23     24     25  label  \n",
       "0      5.479  0.017  0.026  0.020    1.0  \n",
       "1      6.932  0.026  0.024  0.016    1.0  \n",
       "2     10.378  0.026  0.021  0.023    1.0  \n",
       "3      5.704  0.023  0.063  0.020    1.0  \n",
       "4      5.333  0.054  0.036  0.017    1.0  \n",
       "...      ...    ...    ...    ...    ...  \n",
       "5664   8.398  0.027  0.017  0.016    0.0  \n",
       "5665   8.766  0.021  0.016  0.020    1.0  \n",
       "5666   9.180  0.021  0.020  0.022    1.0  \n",
       "5667   9.622  0.024  0.029  0.023    1.0  \n",
       "5668   7.281  0.023  0.042  0.020    1.0  \n",
       "\n",
       "[5669 rows x 27 columns]"
      ]
     },
     "execution_count": 92,
     "metadata": {},
     "output_type": "execute_result"
    }
   ],
   "source": [
    "df_data"
   ]
  },
  {
   "cell_type": "code",
   "execution_count": 93,
   "metadata": {},
   "outputs": [],
   "source": [
    "df_data.to_csv('original_dataset/matlab_file_sorted.csv', index=False)"
   ]
  },
  {
   "cell_type": "markdown",
   "metadata": {},
   "source": [
    "Old data visulaized."
   ]
  },
  {
   "cell_type": "markdown",
   "metadata": {},
   "source": [
    "Read the data and find the different vectors"
   ]
  },
  {
   "cell_type": "code",
   "execution_count": 94,
   "metadata": {},
   "outputs": [
    {
     "data": {
      "text/plain": [
       "ID           HD 203977\n",
       "sp_type             A0\n",
       "RAdeg        321.20044\n",
       "DEdeg        25.880459\n",
       "PS1gmag            NaN\n",
       "e_PS1gmag          NaN\n",
       "PS1rmag         7.6116\n",
       "e_PS1rmag        0.001\n",
       "PS1imag            NaN\n",
       "e_PS1imag          NaN\n",
       "PS1zmag         7.5167\n",
       "e_PS1zmag        0.001\n",
       "PS1ymag        13.5874\n",
       "e_PS1ymag       0.0028\n",
       "W1mag             6.88\n",
       "W2mag            6.919\n",
       "W3mag            6.946\n",
       "W4mag            6.484\n",
       "e_W1mag          0.059\n",
       "e_W2mag           0.02\n",
       "e_W3mag          0.016\n",
       "e_W4mag          0.059\n",
       "Jmag             6.896\n",
       "Hmag             6.921\n",
       "Kmag             6.932\n",
       "e_Jmag           0.026\n",
       "e_Hmag           0.024\n",
       "e_Kmag           0.016\n",
       "label                0\n",
       "Name: 1, dtype: object"
      ]
     },
     "execution_count": 94,
     "metadata": {},
     "output_type": "execute_result"
    }
   ],
   "source": [
    "# data_path = \".\\original_dataset\\dataset_bd_wnames.csv\" #Windows\n",
    "data_path = \"original_dataset/dataset_bd_wnames.csv\"  #MACos\n",
    "df = pd.read_csv(data_path)\n",
    "df.head()\n",
    "df.iloc[1,:]"
   ]
  },
  {
   "cell_type": "markdown",
   "metadata": {},
   "source": [
    "Fill missing values with the mean of the vector"
   ]
  },
  {
   "cell_type": "code",
   "execution_count": 95,
   "metadata": {},
   "outputs": [
    {
     "data": {
      "text/html": [
       "<div>\n",
       "<style scoped>\n",
       "    .dataframe tbody tr th:only-of-type {\n",
       "        vertical-align: middle;\n",
       "    }\n",
       "\n",
       "    .dataframe tbody tr th {\n",
       "        vertical-align: top;\n",
       "    }\n",
       "\n",
       "    .dataframe thead th {\n",
       "        text-align: right;\n",
       "    }\n",
       "</style>\n",
       "<table border=\"1\" class=\"dataframe\">\n",
       "  <thead>\n",
       "    <tr style=\"text-align: right;\">\n",
       "      <th></th>\n",
       "      <th>ID</th>\n",
       "      <th>sp_type</th>\n",
       "      <th>RAdeg</th>\n",
       "      <th>DEdeg</th>\n",
       "      <th>PS1gmag</th>\n",
       "      <th>e_PS1gmag</th>\n",
       "      <th>PS1rmag</th>\n",
       "      <th>e_PS1rmag</th>\n",
       "      <th>PS1imag</th>\n",
       "      <th>e_PS1imag</th>\n",
       "      <th>...</th>\n",
       "      <th>e_W2mag</th>\n",
       "      <th>e_W3mag</th>\n",
       "      <th>e_W4mag</th>\n",
       "      <th>Jmag</th>\n",
       "      <th>Hmag</th>\n",
       "      <th>Kmag</th>\n",
       "      <th>e_Jmag</th>\n",
       "      <th>e_Hmag</th>\n",
       "      <th>e_Kmag</th>\n",
       "      <th>label</th>\n",
       "    </tr>\n",
       "  </thead>\n",
       "  <tbody>\n",
       "    <tr>\n",
       "      <th>0</th>\n",
       "      <td>*  11 Peg</td>\n",
       "      <td>A0V</td>\n",
       "      <td>326.80817</td>\n",
       "      <td>2.686124</td>\n",
       "      <td>5.55600</td>\n",
       "      <td>0.02303</td>\n",
       "      <td>5.760000</td>\n",
       "      <td>0.027126</td>\n",
       "      <td>5.947000</td>\n",
       "      <td>0.022877</td>\n",
       "      <td>...</td>\n",
       "      <td>0.050</td>\n",
       "      <td>0.015</td>\n",
       "      <td>0.044000</td>\n",
       "      <td>5.562</td>\n",
       "      <td>5.539</td>\n",
       "      <td>5.479</td>\n",
       "      <td>0.017</td>\n",
       "      <td>0.026</td>\n",
       "      <td>0.020</td>\n",
       "      <td>0</td>\n",
       "    </tr>\n",
       "    <tr>\n",
       "      <th>1</th>\n",
       "      <td>HD 203977</td>\n",
       "      <td>A0</td>\n",
       "      <td>321.20044</td>\n",
       "      <td>25.880459</td>\n",
       "      <td>15.12594</td>\n",
       "      <td>0.02303</td>\n",
       "      <td>7.611600</td>\n",
       "      <td>0.001000</td>\n",
       "      <td>14.918063</td>\n",
       "      <td>0.022877</td>\n",
       "      <td>...</td>\n",
       "      <td>0.020</td>\n",
       "      <td>0.016</td>\n",
       "      <td>0.059000</td>\n",
       "      <td>6.896</td>\n",
       "      <td>6.921</td>\n",
       "      <td>6.932</td>\n",
       "      <td>0.026</td>\n",
       "      <td>0.024</td>\n",
       "      <td>0.016</td>\n",
       "      <td>0</td>\n",
       "    </tr>\n",
       "    <tr>\n",
       "      <th>2</th>\n",
       "      <td>HD  83162</td>\n",
       "      <td>A0III/IV</td>\n",
       "      <td>144.03845</td>\n",
       "      <td>-12.459262</td>\n",
       "      <td>10.51200</td>\n",
       "      <td>0.02303</td>\n",
       "      <td>10.692000</td>\n",
       "      <td>0.027126</td>\n",
       "      <td>10.866000</td>\n",
       "      <td>0.022877</td>\n",
       "      <td>...</td>\n",
       "      <td>0.020</td>\n",
       "      <td>0.074</td>\n",
       "      <td>0.099197</td>\n",
       "      <td>10.408</td>\n",
       "      <td>10.400</td>\n",
       "      <td>10.378</td>\n",
       "      <td>0.026</td>\n",
       "      <td>0.021</td>\n",
       "      <td>0.023</td>\n",
       "      <td>0</td>\n",
       "    </tr>\n",
       "    <tr>\n",
       "      <th>3</th>\n",
       "      <td>*  10 Boo</td>\n",
       "      <td>A0Vs</td>\n",
       "      <td>209.66217</td>\n",
       "      <td>21.696203</td>\n",
       "      <td>15.12594</td>\n",
       "      <td>0.02303</td>\n",
       "      <td>14.982256</td>\n",
       "      <td>0.027126</td>\n",
       "      <td>6.860300</td>\n",
       "      <td>0.104200</td>\n",
       "      <td>...</td>\n",
       "      <td>0.046</td>\n",
       "      <td>0.015</td>\n",
       "      <td>0.037000</td>\n",
       "      <td>5.671</td>\n",
       "      <td>5.717</td>\n",
       "      <td>5.704</td>\n",
       "      <td>0.023</td>\n",
       "      <td>0.063</td>\n",
       "      <td>0.020</td>\n",
       "      <td>0</td>\n",
       "    </tr>\n",
       "    <tr>\n",
       "      <th>4</th>\n",
       "      <td>HD  27616</td>\n",
       "      <td>A0V</td>\n",
       "      <td>65.16255</td>\n",
       "      <td>-20.639620</td>\n",
       "      <td>15.12594</td>\n",
       "      <td>0.02303</td>\n",
       "      <td>14.982256</td>\n",
       "      <td>0.027126</td>\n",
       "      <td>6.320600</td>\n",
       "      <td>0.000000</td>\n",
       "      <td>...</td>\n",
       "      <td>0.072</td>\n",
       "      <td>0.015</td>\n",
       "      <td>0.036000</td>\n",
       "      <td>5.430</td>\n",
       "      <td>5.402</td>\n",
       "      <td>5.333</td>\n",
       "      <td>0.054</td>\n",
       "      <td>0.036</td>\n",
       "      <td>0.017</td>\n",
       "      <td>0</td>\n",
       "    </tr>\n",
       "  </tbody>\n",
       "</table>\n",
       "<p>5 rows × 29 columns</p>\n",
       "</div>"
      ],
      "text/plain": [
       "          ID   sp_type      RAdeg      DEdeg   PS1gmag  e_PS1gmag    PS1rmag  \\\n",
       "0  *  11 Peg       A0V  326.80817   2.686124   5.55600    0.02303   5.760000   \n",
       "1  HD 203977        A0  321.20044  25.880459  15.12594    0.02303   7.611600   \n",
       "2  HD  83162  A0III/IV  144.03845 -12.459262  10.51200    0.02303  10.692000   \n",
       "3  *  10 Boo      A0Vs  209.66217  21.696203  15.12594    0.02303  14.982256   \n",
       "4  HD  27616       A0V   65.16255 -20.639620  15.12594    0.02303  14.982256   \n",
       "\n",
       "   e_PS1rmag    PS1imag  e_PS1imag  ...  e_W2mag  e_W3mag   e_W4mag    Jmag  \\\n",
       "0   0.027126   5.947000   0.022877  ...    0.050    0.015  0.044000   5.562   \n",
       "1   0.001000  14.918063   0.022877  ...    0.020    0.016  0.059000   6.896   \n",
       "2   0.027126  10.866000   0.022877  ...    0.020    0.074  0.099197  10.408   \n",
       "3   0.027126   6.860300   0.104200  ...    0.046    0.015  0.037000   5.671   \n",
       "4   0.027126   6.320600   0.000000  ...    0.072    0.015  0.036000   5.430   \n",
       "\n",
       "     Hmag    Kmag  e_Jmag  e_Hmag  e_Kmag  label  \n",
       "0   5.539   5.479   0.017   0.026   0.020      0  \n",
       "1   6.921   6.932   0.026   0.024   0.016      0  \n",
       "2  10.400  10.378   0.026   0.021   0.023      0  \n",
       "3   5.717   5.704   0.023   0.063   0.020      0  \n",
       "4   5.402   5.333   0.054   0.036   0.017      0  \n",
       "\n",
       "[5 rows x 29 columns]"
      ]
     },
     "execution_count": 95,
     "metadata": {},
     "output_type": "execute_result"
    }
   ],
   "source": [
    "for column in df.columns:\n",
    "    if column in [\"ID\", \"sp_type\"]: #Skipping these\n",
    "        continue\n",
    "  \n",
    "    df[column] = df[column].fillna(df[column].mean()) #Imputing NA values with mean\n",
    "\n",
    "df.head()"
   ]
  },
  {
   "cell_type": "markdown",
   "metadata": {},
   "source": [
    "Encode the vector \"sp_type\" as it is categorical"
   ]
  },
  {
   "cell_type": "code",
   "execution_count": 96,
   "metadata": {},
   "outputs": [],
   "source": [
    "X = df.drop('ID', axis=1)\n",
    "unique_values = len(X[\"sp_type\"].unique()) # 504\n",
    "X['sp_type'], _ = pd.factorize(X['sp_type'])"
   ]
  },
  {
   "cell_type": "markdown",
   "metadata": {},
   "source": [
    "Split the dataframe/array into data and ground truth"
   ]
  },
  {
   "cell_type": "code",
   "execution_count": 97,
   "metadata": {},
   "outputs": [],
   "source": [
    "y = X[\"label\"]\n",
    "X = X.drop(columns=[\"label\"])"
   ]
  },
  {
   "cell_type": "markdown",
   "metadata": {},
   "source": [
    "Using the actual dataset from the matlab file given instead. Overwriting the previous values of data_path, X, y. "
   ]
  },
  {
   "cell_type": "code",
   "execution_count": 98,
   "metadata": {},
   "outputs": [],
   "source": [
    "data_path = \"original_dataset/matlab_file_sorted.csv\"  #MACos\n",
    "# data_path = \".\\original_dataset\\matlab_file_sorted.csv.csv\" #Windows\n",
    "df = pd.read_csv(data_path)\n",
    "y = df[\"label\"]\n",
    "X = df.drop(columns=[\"label\"])"
   ]
  },
  {
   "cell_type": "code",
   "execution_count": 99,
   "metadata": {},
   "outputs": [
    {
     "data": {
      "text/plain": [
       "((5669, 26), (5669,))"
      ]
     },
     "execution_count": 99,
     "metadata": {},
     "output_type": "execute_result"
    }
   ],
   "source": [
    "X.shape,y.shape"
   ]
  }
 ],
 "metadata": {
  "kernelspec": {
   "display_name": "italia_dl_venv",
   "language": "python",
   "name": "python3"
  },
  "language_info": {
   "codemirror_mode": {
    "name": "ipython",
    "version": 3
   },
   "file_extension": ".py",
   "mimetype": "text/x-python",
   "name": "python",
   "nbconvert_exporter": "python",
   "pygments_lexer": "ipython3",
   "version": "3.9.2"
  }
 },
 "nbformat": 4,
 "nbformat_minor": 2
}
