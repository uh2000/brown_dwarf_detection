{
 "cells": [
  {
   "cell_type": "code",
   "execution_count": 58,
   "metadata": {},
   "outputs": [],
   "source": [
    "import pandas as pd\n",
    "from scipy.io import loadmat\n",
    "import numpy as np\n",
    "\n",
    "import h5py"
   ]
  },
  {
   "cell_type": "code",
   "execution_count": 29,
   "metadata": {},
   "outputs": [
    {
     "data": {
      "text/plain": [
       "<KeysViewHDF5 ['#refs#', '#subsystem#', 'MCC', 'Perf', 'Precision', 'Recall', 'ReferenceResult', 'Result', 'a', 'ans', 'b', 'confMatrix', 'data', 'feat', 'fid', 'fold', 'idTE', 'idTR', 'indices', 'label', 'labelTE', 'labelTR', 'pat', 'pattern', 'rocObj', 'scoreLibSVMnoRed', 'test', 'tokens', 'train']>"
      ]
     },
     "execution_count": 29,
     "metadata": {},
     "output_type": "execute_result"
    }
   ],
   "source": [
    "#data_path_original = \"Brown-Dwarfs/dataset_bd_wnames.csv\"\n",
    "mat_file = \"original_dataset/ReadBrownDwarf.mat\"\n",
    "\n",
    "f = h5py.File(mat_file, 'r')\n",
    "f.keys()\n"
   ]
  },
  {
   "cell_type": "code",
   "execution_count": 133,
   "metadata": {},
   "outputs": [
    {
     "name": "stdout",
     "output_type": "stream",
     "text": [
      "4535\n",
      "Dropout index =  5669\n",
      "4535\n",
      "4535\n",
      "4535\n",
      "4535\n",
      "(5, 4535)\n"
     ]
    }
   ],
   "source": [
    "idTR_list = []\n",
    "with h5py.File(mat_file, 'r') as f:\n",
    "    for i in range(5):\n",
    "        idTR = f['idTR']\n",
    "        ref = idTR[i,0]\n",
    "        element = f[ref]\n",
    "        df_label_TR = pd.DataFrame(idTR)\n",
    "        element_array = np.array(element)\n",
    "\n",
    "    #Extracting the data from the array\n",
    "    for element in element_array:\n",
    "        #One dataset has a bug in it, so we need to remove the last element\n",
    "        if i == 1:\n",
    "            dropout = int(element[4535])\n",
    "            element = element[:4535]\n",
    "            print(\"Dropout index = \",dropout)\n",
    "        idTR_list.append(element.astype(int))\n",
    "        # print(len(element))\n",
    "\n",
    "idTR = np.array(idTR_list)\n",
    "print(idTR.shape)"
   ]
  },
  {
   "cell_type": "code",
   "execution_count": 132,
   "metadata": {},
   "outputs": [
    {
     "name": "stdout",
     "output_type": "stream",
     "text": [
      "(5, 1134)\n"
     ]
    }
   ],
   "source": [
    "idTE_list = []\n",
    "with h5py.File(mat_file, 'r') as f:\n",
    "    for i in range(5):\n",
    "        idTE = f['idTE']\n",
    "        ref = idTE[i,0]\n",
    "        element = f[ref]\n",
    "        df_label_TR = pd.DataFrame(idTE)\n",
    "        element_array = np.array(element)\n",
    "    #One dataset has a bug in it, so we need to add the dropout index to the array\n",
    "    if i == 1:\n",
    "        element_array = np.append(element_array, dropout)\n",
    "        idTE_list.append(element_array.astype(int))\n",
    "    else:\n",
    "        idTE_list.append(element_array[0].astype(int))\n",
    "    # print(len(element_array[0]))\n",
    "\n",
    "idTE = np.array(idTE_list)\n",
    "print(idTE.shape)"
   ]
  },
  {
   "cell_type": "code",
   "execution_count": 163,
   "metadata": {},
   "outputs": [
    {
     "data": {
      "text/plain": [
       "(5, 4535)"
      ]
     },
     "execution_count": 163,
     "metadata": {},
     "output_type": "execute_result"
    }
   ],
   "source": [
    "with h5py.File(mat_file, 'r') as f:\n",
    "    labelTR_list = []\n",
    "    for i in range(5):\n",
    "        # Access the dataset\n",
    "        data = f['labelTR']\n",
    "\n",
    "        # Access a specific reference\n",
    "        ref = data[i, 0]  # Change the indices to access different references\n",
    "\n",
    "        # Dereference the reference\n",
    "        element = f[ref]\n",
    "        element_array = np.array(element)\n",
    "        df_label_tr = pd.DataFrame(element_array)\n",
    "\n",
    "        # Use numpy's vectorized operations to create true_labels\n",
    "        true_labels = np.where(element_array == 2.0, 1, 0)\n",
    "        #One dataset has a bug in it, so we need to remove the last element\n",
    "        if i == 1:\n",
    "            dropout_label = true_labels[4535]\n",
    "            true_labels = true_labels[:4535]\n",
    "        true_labels = true_labels.flatten()\n",
    "        labelTR_list.append(true_labels)\n",
    "\n",
    "labelTR = np.array(labelTR_list)\n",
    "labelTR.shape"
   ]
  },
  {
   "cell_type": "code",
   "execution_count": 162,
   "metadata": {},
   "outputs": [
    {
     "data": {
      "text/plain": [
       "(5, 1134)"
      ]
     },
     "execution_count": 162,
     "metadata": {},
     "output_type": "execute_result"
    }
   ],
   "source": [
    "with h5py.File(mat_file, 'r') as f:\n",
    "    labelTE_list = []\n",
    "    for i in range(5):\n",
    "        # Access the dataset\n",
    "        data = f['labelTE']\n",
    "\n",
    "        # Access a specific reference\n",
    "        ref = data[i, 0]  # Change the indices to access different references\n",
    "\n",
    "        # Dereference the reference\n",
    "        element = f[ref]\n",
    "        element_array = np.array(element)\n",
    "\n",
    "        # Use numpy's vectorized operations to create true_labels\n",
    "        true_labels = np.where(element_array == 2.0, 1, 0)\n",
    "        #One dataset has a bug in it, so we need to remove the last element\n",
    "        if i == 1:\n",
    "            true_labels = np.append(true_labels, dropout_label)\n",
    "        true_labels = true_labels.flatten()\n",
    "        labelTE_list.append(true_labels)\n",
    "\n",
    "labelTE = np.array(labelTE_list)\n",
    "labelTE.shape"
   ]
  },
  {
   "cell_type": "code",
   "execution_count": 93,
   "metadata": {},
   "outputs": [],
   "source": [
    "df_data.to_csv('original_dataset/matlab_file_sorted.csv', index=False)"
   ]
  },
  {
   "cell_type": "markdown",
   "metadata": {},
   "source": [
    "Old data visulaized."
   ]
  },
  {
   "cell_type": "markdown",
   "metadata": {},
   "source": [
    "Read the data and find the different vectors"
   ]
  },
  {
   "cell_type": "code",
   "execution_count": 94,
   "metadata": {},
   "outputs": [
    {
     "data": {
      "text/plain": [
       "ID           HD 203977\n",
       "sp_type             A0\n",
       "RAdeg        321.20044\n",
       "DEdeg        25.880459\n",
       "PS1gmag            NaN\n",
       "e_PS1gmag          NaN\n",
       "PS1rmag         7.6116\n",
       "e_PS1rmag        0.001\n",
       "PS1imag            NaN\n",
       "e_PS1imag          NaN\n",
       "PS1zmag         7.5167\n",
       "e_PS1zmag        0.001\n",
       "PS1ymag        13.5874\n",
       "e_PS1ymag       0.0028\n",
       "W1mag             6.88\n",
       "W2mag            6.919\n",
       "W3mag            6.946\n",
       "W4mag            6.484\n",
       "e_W1mag          0.059\n",
       "e_W2mag           0.02\n",
       "e_W3mag          0.016\n",
       "e_W4mag          0.059\n",
       "Jmag             6.896\n",
       "Hmag             6.921\n",
       "Kmag             6.932\n",
       "e_Jmag           0.026\n",
       "e_Hmag           0.024\n",
       "e_Kmag           0.016\n",
       "label                0\n",
       "Name: 1, dtype: object"
      ]
     },
     "execution_count": 94,
     "metadata": {},
     "output_type": "execute_result"
    }
   ],
   "source": [
    "# data_path = \".\\original_dataset\\dataset_bd_wnames.csv\" #Windows\n",
    "data_path = \"original_dataset/dataset_bd_wnames.csv\"  #MACos\n",
    "df = pd.read_csv(data_path)\n",
    "df.head()\n",
    "df.iloc[1,:]"
   ]
  },
  {
   "cell_type": "markdown",
   "metadata": {},
   "source": [
    "Fill missing values with the mean of the vector"
   ]
  },
  {
   "cell_type": "code",
   "execution_count": 95,
   "metadata": {},
   "outputs": [
    {
     "data": {
      "text/html": [
       "<div>\n",
       "<style scoped>\n",
       "    .dataframe tbody tr th:only-of-type {\n",
       "        vertical-align: middle;\n",
       "    }\n",
       "\n",
       "    .dataframe tbody tr th {\n",
       "        vertical-align: top;\n",
       "    }\n",
       "\n",
       "    .dataframe thead th {\n",
       "        text-align: right;\n",
       "    }\n",
       "</style>\n",
       "<table border=\"1\" class=\"dataframe\">\n",
       "  <thead>\n",
       "    <tr style=\"text-align: right;\">\n",
       "      <th></th>\n",
       "      <th>ID</th>\n",
       "      <th>sp_type</th>\n",
       "      <th>RAdeg</th>\n",
       "      <th>DEdeg</th>\n",
       "      <th>PS1gmag</th>\n",
       "      <th>e_PS1gmag</th>\n",
       "      <th>PS1rmag</th>\n",
       "      <th>e_PS1rmag</th>\n",
       "      <th>PS1imag</th>\n",
       "      <th>e_PS1imag</th>\n",
       "      <th>...</th>\n",
       "      <th>e_W2mag</th>\n",
       "      <th>e_W3mag</th>\n",
       "      <th>e_W4mag</th>\n",
       "      <th>Jmag</th>\n",
       "      <th>Hmag</th>\n",
       "      <th>Kmag</th>\n",
       "      <th>e_Jmag</th>\n",
       "      <th>e_Hmag</th>\n",
       "      <th>e_Kmag</th>\n",
       "      <th>label</th>\n",
       "    </tr>\n",
       "  </thead>\n",
       "  <tbody>\n",
       "    <tr>\n",
       "      <th>0</th>\n",
       "      <td>*  11 Peg</td>\n",
       "      <td>A0V</td>\n",
       "      <td>326.80817</td>\n",
       "      <td>2.686124</td>\n",
       "      <td>5.55600</td>\n",
       "      <td>0.02303</td>\n",
       "      <td>5.760000</td>\n",
       "      <td>0.027126</td>\n",
       "      <td>5.947000</td>\n",
       "      <td>0.022877</td>\n",
       "      <td>...</td>\n",
       "      <td>0.050</td>\n",
       "      <td>0.015</td>\n",
       "      <td>0.044000</td>\n",
       "      <td>5.562</td>\n",
       "      <td>5.539</td>\n",
       "      <td>5.479</td>\n",
       "      <td>0.017</td>\n",
       "      <td>0.026</td>\n",
       "      <td>0.020</td>\n",
       "      <td>0</td>\n",
       "    </tr>\n",
       "    <tr>\n",
       "      <th>1</th>\n",
       "      <td>HD 203977</td>\n",
       "      <td>A0</td>\n",
       "      <td>321.20044</td>\n",
       "      <td>25.880459</td>\n",
       "      <td>15.12594</td>\n",
       "      <td>0.02303</td>\n",
       "      <td>7.611600</td>\n",
       "      <td>0.001000</td>\n",
       "      <td>14.918063</td>\n",
       "      <td>0.022877</td>\n",
       "      <td>...</td>\n",
       "      <td>0.020</td>\n",
       "      <td>0.016</td>\n",
       "      <td>0.059000</td>\n",
       "      <td>6.896</td>\n",
       "      <td>6.921</td>\n",
       "      <td>6.932</td>\n",
       "      <td>0.026</td>\n",
       "      <td>0.024</td>\n",
       "      <td>0.016</td>\n",
       "      <td>0</td>\n",
       "    </tr>\n",
       "    <tr>\n",
       "      <th>2</th>\n",
       "      <td>HD  83162</td>\n",
       "      <td>A0III/IV</td>\n",
       "      <td>144.03845</td>\n",
       "      <td>-12.459262</td>\n",
       "      <td>10.51200</td>\n",
       "      <td>0.02303</td>\n",
       "      <td>10.692000</td>\n",
       "      <td>0.027126</td>\n",
       "      <td>10.866000</td>\n",
       "      <td>0.022877</td>\n",
       "      <td>...</td>\n",
       "      <td>0.020</td>\n",
       "      <td>0.074</td>\n",
       "      <td>0.099197</td>\n",
       "      <td>10.408</td>\n",
       "      <td>10.400</td>\n",
       "      <td>10.378</td>\n",
       "      <td>0.026</td>\n",
       "      <td>0.021</td>\n",
       "      <td>0.023</td>\n",
       "      <td>0</td>\n",
       "    </tr>\n",
       "    <tr>\n",
       "      <th>3</th>\n",
       "      <td>*  10 Boo</td>\n",
       "      <td>A0Vs</td>\n",
       "      <td>209.66217</td>\n",
       "      <td>21.696203</td>\n",
       "      <td>15.12594</td>\n",
       "      <td>0.02303</td>\n",
       "      <td>14.982256</td>\n",
       "      <td>0.027126</td>\n",
       "      <td>6.860300</td>\n",
       "      <td>0.104200</td>\n",
       "      <td>...</td>\n",
       "      <td>0.046</td>\n",
       "      <td>0.015</td>\n",
       "      <td>0.037000</td>\n",
       "      <td>5.671</td>\n",
       "      <td>5.717</td>\n",
       "      <td>5.704</td>\n",
       "      <td>0.023</td>\n",
       "      <td>0.063</td>\n",
       "      <td>0.020</td>\n",
       "      <td>0</td>\n",
       "    </tr>\n",
       "    <tr>\n",
       "      <th>4</th>\n",
       "      <td>HD  27616</td>\n",
       "      <td>A0V</td>\n",
       "      <td>65.16255</td>\n",
       "      <td>-20.639620</td>\n",
       "      <td>15.12594</td>\n",
       "      <td>0.02303</td>\n",
       "      <td>14.982256</td>\n",
       "      <td>0.027126</td>\n",
       "      <td>6.320600</td>\n",
       "      <td>0.000000</td>\n",
       "      <td>...</td>\n",
       "      <td>0.072</td>\n",
       "      <td>0.015</td>\n",
       "      <td>0.036000</td>\n",
       "      <td>5.430</td>\n",
       "      <td>5.402</td>\n",
       "      <td>5.333</td>\n",
       "      <td>0.054</td>\n",
       "      <td>0.036</td>\n",
       "      <td>0.017</td>\n",
       "      <td>0</td>\n",
       "    </tr>\n",
       "  </tbody>\n",
       "</table>\n",
       "<p>5 rows × 29 columns</p>\n",
       "</div>"
      ],
      "text/plain": [
       "          ID   sp_type      RAdeg      DEdeg   PS1gmag  e_PS1gmag    PS1rmag  \\\n",
       "0  *  11 Peg       A0V  326.80817   2.686124   5.55600    0.02303   5.760000   \n",
       "1  HD 203977        A0  321.20044  25.880459  15.12594    0.02303   7.611600   \n",
       "2  HD  83162  A0III/IV  144.03845 -12.459262  10.51200    0.02303  10.692000   \n",
       "3  *  10 Boo      A0Vs  209.66217  21.696203  15.12594    0.02303  14.982256   \n",
       "4  HD  27616       A0V   65.16255 -20.639620  15.12594    0.02303  14.982256   \n",
       "\n",
       "   e_PS1rmag    PS1imag  e_PS1imag  ...  e_W2mag  e_W3mag   e_W4mag    Jmag  \\\n",
       "0   0.027126   5.947000   0.022877  ...    0.050    0.015  0.044000   5.562   \n",
       "1   0.001000  14.918063   0.022877  ...    0.020    0.016  0.059000   6.896   \n",
       "2   0.027126  10.866000   0.022877  ...    0.020    0.074  0.099197  10.408   \n",
       "3   0.027126   6.860300   0.104200  ...    0.046    0.015  0.037000   5.671   \n",
       "4   0.027126   6.320600   0.000000  ...    0.072    0.015  0.036000   5.430   \n",
       "\n",
       "     Hmag    Kmag  e_Jmag  e_Hmag  e_Kmag  label  \n",
       "0   5.539   5.479   0.017   0.026   0.020      0  \n",
       "1   6.921   6.932   0.026   0.024   0.016      0  \n",
       "2  10.400  10.378   0.026   0.021   0.023      0  \n",
       "3   5.717   5.704   0.023   0.063   0.020      0  \n",
       "4   5.402   5.333   0.054   0.036   0.017      0  \n",
       "\n",
       "[5 rows x 29 columns]"
      ]
     },
     "execution_count": 95,
     "metadata": {},
     "output_type": "execute_result"
    }
   ],
   "source": [
    "for column in df.columns:\n",
    "    if column in [\"ID\", \"sp_type\"]: #Skipping these\n",
    "        continue\n",
    "  \n",
    "    df[column] = df[column].fillna(df[column].mean()) #Imputing NA values with mean\n",
    "\n",
    "df.head()"
   ]
  },
  {
   "cell_type": "code",
   "execution_count": null,
   "metadata": {},
   "outputs": [],
   "source": [
    "index_Te = df[\"idTE\"].astype(int)\n"
   ]
  },
  {
   "cell_type": "markdown",
   "metadata": {},
   "source": [
    "Encode the vector \"sp_type\" as it is categorical"
   ]
  },
  {
   "cell_type": "code",
   "execution_count": 96,
   "metadata": {},
   "outputs": [],
   "source": [
    "X = df.drop('ID', axis=1)\n",
    "unique_values = len(X[\"sp_type\"].unique()) # 504\n",
    "X['sp_type'], _ = pd.factorize(X['sp_type'])"
   ]
  },
  {
   "cell_type": "markdown",
   "metadata": {},
   "source": [
    "Split the dataframe/array into data and ground truth"
   ]
  },
  {
   "cell_type": "code",
   "execution_count": 97,
   "metadata": {},
   "outputs": [],
   "source": [
    "y = X[\"label\"]\n",
    "X = X.drop(columns=[\"label\"])"
   ]
  },
  {
   "cell_type": "markdown",
   "metadata": {},
   "source": [
    "Using the actual dataset from the matlab file given instead. Overwriting the previous values of data_path, X, y. "
   ]
  },
  {
   "cell_type": "code",
   "execution_count": 98,
   "metadata": {},
   "outputs": [],
   "source": [
    "data_path = \"original_dataset/matlab_file_sorted.csv\"  #MACos\n",
    "df = pd.read_csv(data_path)\n",
    "y = df[\"label\"]\n",
    "X = df.drop(columns=[\"label\"])"
   ]
  },
  {
   "cell_type": "code",
   "execution_count": 99,
   "metadata": {},
   "outputs": [
    {
     "data": {
      "text/plain": [
       "((5669, 26), (5669,))"
      ]
     },
     "execution_count": 99,
     "metadata": {},
     "output_type": "execute_result"
    }
   ],
   "source": [
    "X.shape,y.shape"
   ]
  }
 ],
 "metadata": {
  "kernelspec": {
   "display_name": "italia_dl_venv",
   "language": "python",
   "name": "python3"
  },
  "language_info": {
   "codemirror_mode": {
    "name": "ipython",
    "version": 3
   },
   "file_extension": ".py",
   "mimetype": "text/x-python",
   "name": "python",
   "nbconvert_exporter": "python",
   "pygments_lexer": "ipython3",
   "version": "3.9.2"
  }
 },
 "nbformat": 4,
 "nbformat_minor": 2
}
