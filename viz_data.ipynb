{
 "cells": [
  {
   "cell_type": "code",
   "execution_count": 164,
   "metadata": {},
   "outputs": [],
   "source": [
    "import pandas as pd\n",
    "from scipy.io import loadmat\n",
    "import numpy as np\n",
    "\n",
    "import h5py"
   ]
  },
  {
   "cell_type": "code",
   "execution_count": 165,
   "metadata": {},
   "outputs": [
    {
     "data": {
      "text/plain": [
       "<KeysViewHDF5 ['#refs#', '#subsystem#', 'MCC', 'Perf', 'Precision', 'Recall', 'ReferenceResult', 'Result', 'a', 'ans', 'b', 'confMatrix', 'data', 'feat', 'fid', 'fold', 'idTE', 'idTR', 'indices', 'label', 'labelTE', 'labelTR', 'pat', 'pattern', 'rocObj', 'scoreLibSVMnoRed', 'test', 'tokens', 'train']>"
      ]
     },
     "execution_count": 165,
     "metadata": {},
     "output_type": "execute_result"
    }
   ],
   "source": [
    "#data_path_original = \"Brown-Dwarfs/dataset_bd_wnames.csv\"\n",
    "mat_file = \"original_dataset/ReadBrownDwarf.mat\"\n",
    "\n",
    "f = h5py.File(mat_file, 'r')\n",
    "f.keys()\n"
   ]
  },
  {
   "cell_type": "code",
   "execution_count": 166,
   "metadata": {},
   "outputs": [
    {
     "name": "stdout",
     "output_type": "stream",
     "text": [
      "Dropout index =  5669\n",
      "(5, 4535)\n"
     ]
    }
   ],
   "source": [
    "idTR_list = []\n",
    "with h5py.File(mat_file, 'r') as f:\n",
    "    for i in range(5):\n",
    "        idTR = f['idTR']\n",
    "        ref = idTR[i,0]\n",
    "        element = f[ref]\n",
    "        df_label_TR = pd.DataFrame(idTR)\n",
    "        element_array = np.array(element)\n",
    "\n",
    "        #Extracting the data from the array\n",
    "        for element in element_array:\n",
    "            #One dataset has a bug in it, so we need to remove the last element\n",
    "            if i == 1:\n",
    "                dropout = int(element[4535])\n",
    "                element = element[:4535]\n",
    "                print(\"Dropout index = \",dropout)\n",
    "            idTR_list.append(element.astype(int))\n",
    "            # print(len(element))\n",
    "\n",
    "idTR = np.array(idTR_list)\n",
    "print(idTR.shape)"
   ]
  },
  {
   "cell_type": "code",
   "execution_count": 167,
   "metadata": {},
   "outputs": [
    {
     "name": "stdout",
     "output_type": "stream",
     "text": [
      "(5, 1134)\n"
     ]
    }
   ],
   "source": [
    "idTE_list = []\n",
    "with h5py.File(mat_file, 'r') as f:\n",
    "    for i in range(5):\n",
    "        idTE = f['idTE']\n",
    "        ref = idTE[i,0]\n",
    "        element = f[ref]\n",
    "        df_label_TR = pd.DataFrame(idTE)\n",
    "        element_array = np.array(element)\n",
    "        #One dataset has a bug in it, so we need to add the dropout index to the array\n",
    "        if i == 1:\n",
    "            element_array = np.append(element_array, dropout)\n",
    "            idTE_list.append(element_array.astype(int))\n",
    "        else:\n",
    "            idTE_list.append(element_array[0].astype(int))\n",
    "        # print(len(element_array[0]))\n",
    "\n",
    "idTE = np.array(idTE_list)\n",
    "print(idTE.shape)"
   ]
  },
  {
   "cell_type": "code",
   "execution_count": 168,
   "metadata": {},
   "outputs": [
    {
     "data": {
      "text/plain": [
       "(5, 4535)"
      ]
     },
     "execution_count": 168,
     "metadata": {},
     "output_type": "execute_result"
    }
   ],
   "source": [
    "with h5py.File(mat_file, 'r') as f:\n",
    "    labelTR_list = []\n",
    "    for i in range(5):\n",
    "        # Access the dataset\n",
    "        data = f['labelTR']\n",
    "\n",
    "        # Access a specific reference\n",
    "        ref = data[i, 0]  # Change the indices to access different references\n",
    "\n",
    "        # Dereference the reference\n",
    "        element = f[ref]\n",
    "        element_array = np.array(element)\n",
    "        df_label_tr = pd.DataFrame(element_array)\n",
    "\n",
    "        # Use numpy's vectorized operations to create true_labels\n",
    "        true_labels = np.where(element_array == 2.0, 1, 0)\n",
    "        #One dataset has a bug in it, so we need to remove the last element\n",
    "        if i == 1:\n",
    "            dropout_label = true_labels[4535]\n",
    "            true_labels = true_labels[:4535]\n",
    "        true_labels = true_labels.flatten()\n",
    "        labelTR_list.append(true_labels)\n",
    "\n",
    "labelTR = np.array(labelTR_list)\n",
    "labelTR.shape"
   ]
  },
  {
   "cell_type": "code",
   "execution_count": 169,
   "metadata": {},
   "outputs": [
    {
     "data": {
      "text/plain": [
       "(5, 1134)"
      ]
     },
     "execution_count": 169,
     "metadata": {},
     "output_type": "execute_result"
    }
   ],
   "source": [
    "with h5py.File(mat_file, 'r') as f:\n",
    "    labelTE_list = []\n",
    "    for i in range(5):\n",
    "        # Access the dataset\n",
    "        data = f['labelTE']\n",
    "\n",
    "        # Access a specific reference\n",
    "        ref = data[i, 0]  # Change the indices to access different references\n",
    "\n",
    "        # Dereference the reference\n",
    "        element = f[ref]\n",
    "        element_array = np.array(element)\n",
    "\n",
    "        # Use numpy's vectorized operations to create true_labels\n",
    "        true_labels = np.where(element_array == 2.0, 1, 0)\n",
    "        #One dataset has a bug in it, so we need to remove the last element\n",
    "        if i == 1:\n",
    "            true_labels = np.append(true_labels, dropout_label)\n",
    "        true_labels = true_labels.flatten()\n",
    "        labelTE_list.append(true_labels)\n",
    "\n",
    "labelTE = np.array(labelTE_list)\n",
    "labelTE.shape"
   ]
  },
  {
   "cell_type": "code",
   "execution_count": 170,
   "metadata": {},
   "outputs": [
    {
     "data": {
      "text/plain": [
       "((5, 1134), (5, 4535), (5, 1134), (5, 4535))"
      ]
     },
     "execution_count": 170,
     "metadata": {},
     "output_type": "execute_result"
    }
   ],
   "source": [
    "idTE.shape, idTR.shape, labelTE.shape, labelTR.shape    "
   ]
  },
  {
   "cell_type": "code",
   "execution_count": 184,
   "metadata": {},
   "outputs": [],
   "source": [
    "np.save(\"original_dataset/idTE\", idTE)"
   ]
  },
  {
   "cell_type": "code",
   "execution_count": 185,
   "metadata": {},
   "outputs": [],
   "source": [
    "np.save(\"original_dataset/idTR\", idTR)"
   ]
  },
  {
   "cell_type": "code",
   "execution_count": 186,
   "metadata": {},
   "outputs": [],
   "source": [
    "np.save(\"original_dataset/labelTE\", labelTE)"
   ]
  },
  {
   "cell_type": "code",
   "execution_count": 187,
   "metadata": {},
   "outputs": [],
   "source": [
    "np.save(\"original_dataset/labelTR\", labelTR)"
   ]
  }
 ],
 "metadata": {
  "kernelspec": {
   "display_name": "italia_dl_venv",
   "language": "python",
   "name": "python3"
  },
  "language_info": {
   "codemirror_mode": {
    "name": "ipython",
    "version": 3
   },
   "file_extension": ".py",
   "mimetype": "text/x-python",
   "name": "python",
   "nbconvert_exporter": "python",
   "pygments_lexer": "ipython3",
   "version": "3.9.2"
  }
 },
 "nbformat": 4,
 "nbformat_minor": 2
}
